{
 "cells": [
  {
   "cell_type": "markdown",
   "metadata": {
    "slideshow": {
     "slide_type": "slide"
    }
   },
   "source": [
    "\n",
    "# Machine Learning for Life Sciences\n",
    "\n",
    "Follow along at:\n",
    "[5x5x5x5.github.io/Machine_Learning_Life_Sciences](http://5x5x5x5.github.io/Machine_Learning_Life_Science/)\n",
    "<img src=\"img/workforce_infographic.jpg\">"
   ]
  },
  {
   "cell_type": "markdown",
   "metadata": {
    "slideshow": {
     "slide_type": "slide"
    }
   },
   "source": [
    "## Definitions sure to annoy serious practitioners\n",
    "\n",
    "Machine Learning - Generalizing from data using algoritms and computation\n"
   ]
  },
  {
   "cell_type": "markdown",
   "metadata": {
    "slideshow": {
     "slide_type": "fragment"
    }
   },
   "source": [
    "Life Sciences - Anything that wiggles from 20nm to 30m"
   ]
  },
  {
   "cell_type": "markdown",
   "metadata": {
    "slideshow": {
     "slide_type": "slide"
    }
   },
   "source": [
    "Opportunities in the Life Sciences\n",
    "- Research frontier is relatively close\n",
    "- New developments are reducing costs and increasing reproducibility\n",
    " - Science Exchange\n",
    " - Riffyn\n",
    " - Emerald Cloud Lab\n",
    " - Transcriptics\n",
    "- Opening up new avenues for data analysis"
   ]
  },
  {
   "cell_type": "markdown",
   "metadata": {
    "slideshow": {
     "slide_type": "subslide"
    }
   },
   "source": [
    "Remote laboratory services facilitated by [Science Exchange](https://www.scienceexchange.com/)<img src=\"img/Science_Exchange_logo.png\">\n",
    "\n",
    "pic of science exchange services\n"
   ]
  },
  {
   "cell_type": "markdown",
   "metadata": {
    "slideshow": {
     "slide_type": "subslide"
    }
   },
   "source": [
    "First standardization and then optimization of investigation\n",
    "\n",
    "Riffyn\n",
    "\n",
    "Quality systems engineering for research methods\n",
    "\n",
    "Design of experiments analysis"
   ]
  },
  {
   "cell_type": "markdown",
   "metadata": {
    "slideshow": {
     "slide_type": "subslide"
    }
   },
   "source": [
    "Cloud labs\n",
    "\n",
    "- Emerald Cloud Lab\n",
    "- Transcriptics"
   ]
  },
  {
   "cell_type": "markdown",
   "metadata": {
    "slideshow": {
     "slide_type": "slide"
    }
   },
   "source": [
    "## Obligitory Data Science Triforce\n",
    "\n",
    "<img src=\"img/Data_Science_VD.png\">\n",
    "\n",
    "### When attempting something new, hacking skills will be rewarded."
   ]
  },
  {
   "cell_type": "markdown",
   "metadata": {
    "slideshow": {
     "slide_type": "subslide"
    }
   },
   "source": [
    "## Highway to the Danger Zone?\n",
    "\n",
    "Fortunately, it requires near willful ignorance to acquire hacking skills and substantive expertise without also learning some math and statistics along the way. As such, the danger zone is sparsely populated, however, it does not take many to produce a lot of damage. - [Drew Conway](http://drewconway.com/zia/2013/3/26/the-data-science-venn-diagram)\n",
    "- no statistical grounding \n",
    "- no basis for claims\n",
    "\n",
    "<img src=\"img/Data_Science_VD.png\">\n"
   ]
  },
  {
   "cell_type": "markdown",
   "metadata": {
    "slideshow": {
     "slide_type": "slide"
    }
   },
   "source": [
    "## Three examples with three techs\n",
    "- classification (QSAR) using scikit-learn in Python\n",
    "- next gen sequencing (standard R processing pipeline) RNA-seq\n",
    "- diagnostic image analysis with ConvNets in Python"
   ]
  },
  {
   "cell_type": "markdown",
   "metadata": {
    "slideshow": {
     "slide_type": "slide"
    }
   },
   "source": [
    "Machine Learning \n",
    "\n",
    "1 Choose a representation\n",
    "\n",
    "2 Train a classifier \n",
    " -Holdouts\n",
    " -Cross-validation\n",
    " -Classifier selection\n",
    " -Parameter search\n",
    "\n",
    "3 Make predictions\n",
    "\n",
    "4 Evaluation metrics\n",
    "\n",
    "[Here is an excellent visualization of the process](http://www.r2d3.us/visual-intro-to-machine-learning-part-1/)"
   ]
  },
  {
   "cell_type": "markdown",
   "metadata": {
    "slideshow": {
     "slide_type": "slide"
    }
   },
   "source": [
    "## QSAR\n",
    "\n",
    "- Visual of molecules\n",
    "- Example binary classification pipeline using scikit-learn\n",
    "- ROC curve"
   ]
  },
  {
   "cell_type": "markdown",
   "metadata": {
    "slideshow": {
     "slide_type": "slide"
    }
   },
   "source": [
    "## Next Gen Sequencing - [RNA-Seq](http://rnaseq.uoregon.edu/)\n",
    "\n",
    "Woodchipper\n",
    "\n",
    "Another simple problem\n",
    "\n",
    "Larger datasets\n",
    "\n",
    "Different level of problem\n",
    "\n",
    "Show R in Jupyter notebook\n"
   ]
  },
  {
   "cell_type": "markdown",
   "metadata": {
    "slideshow": {
     "slide_type": "slide"
    }
   },
   "source": [
    "## Diagnostic Image Analysis\n",
    "\n",
    "Diabetic Retinopathy Competition recently from Kaggle.\n",
    "\n",
    "Eye picture\n",
    "\n",
    "The top # all used Convolutional Neural Nets"
   ]
  },
  {
   "cell_type": "markdown",
   "metadata": {
    "slideshow": {
     "slide_type": "subslide"
    }
   },
   "source": [
    "Introduce neural networks\n",
    "\n",
    "great link to neural network biology article\n",
    "\n",
    "Lends itself to parallel computation. GPU are usefull for this."
   ]
  },
  {
   "cell_type": "markdown",
   "metadata": {
    "slideshow": {
     "slide_type": "subslide"
    }
   },
   "source": [
    "Picture of simple net\n",
    "\n",
    "Picture of architecture\n",
    "\n",
    "Example of python code with Theano"
   ]
  },
  {
   "cell_type": "markdown",
   "metadata": {
    "slideshow": {
     "slide_type": "slide"
    }
   },
   "source": [
    "## Tools for speaking the same language\n",
    "\n",
    "Version control    --    git\n",
    "\n",
    "Software Carpentry\n",
    "\n",
    "Data Carpentry"
   ]
  },
  {
   "cell_type": "markdown",
   "metadata": {
    "slideshow": {
     "slide_type": "subslide"
    }
   },
   "source": [
    "## Use AWS free tier\n",
    "\n",
    "Groundhog Day for computing\n",
    "\n",
    "yes, it's slow, but it's free\n",
    "\n",
    "scripts coming to github"
   ]
  },
  {
   "cell_type": "markdown",
   "metadata": {
    "collapsed": true,
    "slideshow": {
     "slide_type": "slide"
    }
   },
   "source": [
    "- Stay away from anything involving the FDA or HIPAA or humans in general.\n",
    "- There is enough going on in your yard or compost pile or maybe even your fridge.\n",
    "- Hoping to get better biological datasets and well publicized examples.\n",
    "- More than Words"
   ]
  },
  {
   "cell_type": "code",
   "execution_count": null,
   "metadata": {
    "collapsed": false,
    "slideshow": {
     "slide_type": "slide"
    }
   },
   "outputs": [
    {
     "name": "stdout",
     "output_type": "stream",
     "text": [
      "[NbConvertApp] Converting notebook MLforLS.ipynb to slides\n",
      "[NbConvertApp] Writing 202636 bytes to MLforLS.slides.html\n",
      "[NbConvertApp] Redirecting reveal.js requests to https://cdn.jsdelivr.net/reveal.js/2.6.2\n",
      "Serving your slides at http://127.0.0.1:8000/MLforLS.slides.html\n",
      "Use Control-C to stop this server\n",
      "Created new window in existing browser session.\n",
      "WARNING:tornado.access:404 GET /custom.css (127.0.0.1) 0.79ms\n",
      "WARNING:tornado.access:404 GET /favicon.ico (127.0.0.1) 0.47ms\n"
     ]
    }
   ],
   "source": [
    "!jupyter nbconvert --to slides MLforLS.ipynb --post serve"
   ]
  },
  {
   "cell_type": "markdown",
   "metadata": {
    "slideshow": {
     "slide_type": "notes"
    }
   },
   "source": [
    "Podcasts\n",
    "Talking Machines podcast starting after 10 minutes\n",
    "a16z - breathless, but not all hype\n"
   ]
  }
 ],
 "metadata": {
  "celltoolbar": "Slideshow",
  "kernelspec": {
   "display_name": "Python 3",
   "language": "python",
   "name": "python3"
  },
  "language_info": {
   "codemirror_mode": {
    "name": "ipython",
    "version": 3
   },
   "file_extension": ".py",
   "mimetype": "text/x-python",
   "name": "python",
   "nbconvert_exporter": "python",
   "pygments_lexer": "ipython3",
   "version": "3.4.3"
  }
 },
 "nbformat": 4,
 "nbformat_minor": 0
}
