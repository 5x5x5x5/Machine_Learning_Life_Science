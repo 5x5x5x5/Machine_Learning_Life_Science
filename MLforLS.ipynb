{
 "cells": [
  {
   "cell_type": "markdown",
   "metadata": {
    "slideshow": {
     "slide_type": "slide"
    }
   },
   "source": [
    "\n",
    "# Machine Learning for Life Sciences\n",
    "\n",
    "<img src=\"img/workforce_infographic.jpg\">\n",
    "\n",
    "Follow along at:\n",
    "[5x5x5x5.github.io/Machine_Learning_Life_Sciences](http://5x5x5x5.github.io/Machine_Learning_Life_Science/)"
   ]
  },
  {
   "cell_type": "markdown",
   "metadata": {
    "slideshow": {
     "slide_type": "slide"
    }
   },
   "source": [
    "## Definitions sure to annoy serious practitioners\n",
    "\n",
    "Machine Learning - Using algorithms and computation to generalize from data\n"
   ]
  },
  {
   "cell_type": "markdown",
   "metadata": {
    "slideshow": {
     "slide_type": "fragment"
    }
   },
   "source": [
    "Life Sciences - Anything that wiggles from 20nm to 30m in length"
   ]
  },
  {
   "cell_type": "markdown",
   "metadata": {
    "slideshow": {
     "slide_type": "fragment"
    }
   },
   "source": [
    "Most of the subjects I will touch on are incredibly deep and worthy of their own talk. Thankfully, the Research Triangle Analysts have already given some of them.\n",
    "- [Tim Hopper on scikit-learn](https://github.com/tdhopper/Research-Triangle-Analysts--Intro-to-scikit-learn/blob/master/Intro%20to%20Scikit-Learn.ipynb)\n",
    "- [Python Data Science with Pandas](https://www.youtube.com/watch?v=mTiyFjMby9A)\n",
    "- Random Forests and Boosted Trees, subtitled The Entropy Of My Entropy Is My Friend by Dan Kelly"
   ]
  },
  {
   "cell_type": "markdown",
   "metadata": {
    "slideshow": {
     "slide_type": "slide"
    }
   },
   "source": [
    "## Opportunities in the Life Sciences\n",
    "- Research frontier is relatively close\n",
    "- New developments aimed at reducing costs and increasing reproducibility\n",
    " - Science Exchange\n",
    " - Riffyn\n",
    " - Emerald Cloud Lab\n",
    " - Transcriptics\n",
    "- More data to feed the Data Scientists\n",
    "- New approaches open up new avenues for data analysis\n",
    "\n",
    "### Three classification problems with three techs\n",
    "- classification (QSAR) using scikit-learn in Python\n",
    "- next gen sequencing RNA-seq MLSeq classification example in R\n",
    "- diagnostic image analysis with ConvNets in Python using Theano"
   ]
  },
  {
   "cell_type": "markdown",
   "metadata": {
    "slideshow": {
     "slide_type": "subslide"
    }
   },
   "source": [
    "## Remote Laboratory Services facilitated by [Science Exchange](https://www.scienceexchange.com/)<img src=\"img/Science_Exchange_logo.png\">\n",
    "\n",
    "<img src=\"img/sciexchange_screen.png\">"
   ]
  },
  {
   "cell_type": "markdown",
   "metadata": {
    "slideshow": {
     "slide_type": "subslide"
    }
   },
   "source": [
    "## Protocol Standardization and Optimization by [Riffyn](http://riffyn.com/)\n",
    "\n",
    "Quality systems engineering for research methods\n",
    "\n",
    "Design of experiments analysis\n",
    "\n",
    "<img src=\"img/riffyn_logo.png\">"
   ]
  },
  {
   "cell_type": "markdown",
   "metadata": {
    "slideshow": {
     "slide_type": "subslide"
    }
   },
   "source": [
    "## Automated Research Pipelines by [Emerald Therapeutics](http://emeraldcloudlab.com/) and [Transcriptic](https://www.transcriptic.com/)\n",
    "\n",
    "\n",
    "<img src=\"img/ECL1.jpg\">"
   ]
  },
  {
   "cell_type": "markdown",
   "metadata": {
    "slideshow": {
     "slide_type": "slide"
    }
   },
   "source": [
    "## What to do with all that data?"
   ]
  },
  {
   "cell_type": "markdown",
   "metadata": {
    "slideshow": {
     "slide_type": "fragment"
    }
   },
   "source": [
    "## Obligitory Data Science Triforce\n",
    "\n",
    "<img src=\"img/Data_Science_VD.png\">\n",
    "\n",
    "### Data Science to the rescue"
   ]
  },
  {
   "cell_type": "markdown",
   "metadata": {
    "slideshow": {
     "slide_type": "slide"
    }
   },
   "source": [
    "## Highway to the Danger Zone?\n",
    "- no statistical grounding \n",
    "- no basis for claims\n",
    "\n",
    "> Fortunately, it requires near willful ignorance to acquire hacking skills and substantive expertise without also learning some math and statistics along the way. As such, the danger zone is sparsely populated, however, it does not take many to produce a lot of damage. - [Drew Conway](http://drewconway.com/zia/2013/3/26/the-data-science-venn-diagram)\n",
    "\n",
    "<img src=\"img/Data_Science_VD.png\">\n"
   ]
  },
  {
   "cell_type": "markdown",
   "metadata": {
    "slideshow": {
     "slide_type": "slide"
    }
   },
   "source": [
    "## Three classification problems with three techs\n",
    "- classification (QSAR) using scikit-learn in Python\n",
    "- next gen sequencing (standard R processing pipeline) RNA-seq\n",
    "- diagnostic image analysis with ConvNets in Python using Theano\n",
    "\n",
    "The emphasis here is on finding a common understanding of the vocabulary between life scientists and analysts; things like pipelines, dataframes and representations."
   ]
  },
  {
   "cell_type": "markdown",
   "metadata": {
    "slideshow": {
     "slide_type": "slide"
    }
   },
   "source": [
    "## Classification in Machine Learning \n",
    "\n",
    "A classic supervised learning problem.\n",
    "\n",
    "[Here is an excellent visualization of the process](http://www.r2d3.us/visual-intro-to-machine-learning-part-1/)\n",
    "\n",
    "1 Choose a representation\n",
    "\n",
    "2 Train a classifier \n",
    " - Holdouts\n",
    " - Cross-validation\n",
    " - Classifier selection\n",
    " - Parameter search\n",
    "\n",
    "3 Make predictions\n",
    "\n",
    "4 Evaluation metrics"
   ]
  },
  {
   "cell_type": "markdown",
   "metadata": {
    "slideshow": {
     "slide_type": "slide"
    }
   },
   "source": [
    "## Quantitaive Structure Activity Relationship for Predictive Toxicology\n",
    "\n",
    "\n",
    "\n"
   ]
  },
  {
   "cell_type": "markdown",
   "metadata": {
    "slideshow": {
     "slide_type": "fragment"
    }
   },
   "source": [
    "### Check out some chemicals"
   ]
  },
  {
   "cell_type": "code",
   "execution_count": 1,
   "metadata": {
    "collapsed": true,
    "slideshow": {
     "slide_type": "fragment"
    }
   },
   "outputs": [],
   "source": [
    "from rdkit import Chem\n",
    "from rdkit.Chem import Draw\n",
    "%matplotlib inline"
   ]
  },
  {
   "cell_type": "code",
   "execution_count": 2,
   "metadata": {
    "collapsed": false,
    "slideshow": {
     "slide_type": "fragment"
    }
   },
   "outputs": [
    {
     "data": {
      "image/png": "[encoded data removed]",
      "text/plain": [
       "<matplotlib.figure.Figure at 0x7fd5793964a8>"
      ]
     },
     "metadata": {},
     "output_type": "display_data"
    }
   ],
   "source": [
    "m3 = Chem.MolFromSmiles('O=C1OC2=C(C=C1)C1=C(C=CCO1)C=C2')\n",
    "fig3 = Draw.MolToMPL(m3)"
   ]
  },
  {
   "cell_type": "code",
   "execution_count": 4,
   "metadata": {
    "collapsed": false,
    "slideshow": {
     "slide_type": "subslide"
    }
   },
   "outputs": [
    {
     "data": {
      "image/png": "[encoded data removed]",
      "text/plain": [
       "<PIL.Image.Image image mode=RGBA size=600x200 at 0x7FD5770DD358>"
      ]
     },
     "execution_count": 4,
     "metadata": {},
     "output_type": "execute_result"
    }
   ],
   "source": [
    "smiles = (\"O=C(NCc1cc(OC)c(O)cc1)CCCC/C=C/C(C)C\", \"CC(C)CCCCCC(=O)NCC1=CC(=C(C=C1)O)OC\", \"c1(C(=O)O)cc(OC)c(O)cc1\")\n",
    "mols = [Chem.MolFromSmiles(x) for x in smiles]\n",
    "Draw.MolsToGridImage(mols)"
   ]
  },
  {
   "cell_type": "markdown",
   "metadata": {
    "slideshow": {
     "slide_type": "fragment"
    }
   },
   "source": [
    "[Train-Test-Split notebook](https://github.com/5x5x5x5/Machine_Learning_Life_Science/blob/gh-pages/ShuffleandSplit2D6.ipynb)\n",
    "\n",
    "[Classification and Evaluation of Models for Built for Cytochrome P450 2D6](https://github.com/5x5x5x5/Machine_Learning_Life_Science/blob/gh-pages/Model2D6.ipynb)"
   ]
  },
  {
   "cell_type": "markdown",
   "metadata": {
    "slideshow": {
     "slide_type": "slide"
    }
   },
   "source": [
    "## Next Gen Sequencing - [RNA-Seq](http://rnaseq.uoregon.edu/)\n",
    "\n",
    "NGS Woodchipper\n",
    "\n",
    "Dealing with 30X genome sized datasets initially\n",
    " - lots of interesting statistics work around:\n",
    "  - multiple hypothesis testing\n",
    "  - assembly and annotation of nucleic acid sequences\n",
    "  - error correction\n",
    "  - not machine learning\n",
    "\n",
    "Comparing RNA expression levels takes this from a big data problem back to\n",
    "[another simple classification problem](https://bioconductor.org/packages/release/bioc/vignettes/MLSeq/inst/doc/MLSeq.pdf)\n",
    "\n",
    "[R Classification exercise in Jupyter notebook](https://github.com/5x5x5x5/Machine_Learning_Life_Science/blob/gh-pages/MLSeq%20walkthrough.ipynb)\n"
   ]
  },
  {
   "cell_type": "markdown",
   "metadata": {
    "slideshow": {
     "slide_type": "slide"
    }
   },
   "source": [
    "## Diagnostic Image Analysis\n",
    "\n",
    "Diabetic Retinopathy Competition recently from Kaggle.\n",
    "\n",
    "The top 10 all used Convolutional Neural Nets\n",
    "\n",
    "<img src=\"img/DR_overview.png\">"
   ]
  },
  {
   "cell_type": "markdown",
   "metadata": {
    "slideshow": {
     "slide_type": "subslide"
    }
   },
   "source": [
    "## The winners in their own words\n",
    "\n",
    "[Jeffrey De Fauw](http://jeffreydf.github.io/diabetic-retinopathy-detection/) most lucid explination yet.\n",
    "\n",
    "[hotak](https://github.com/hoytak/diabetic-retinopathy-code)\n",
    "\n",
    "[Ramon Peres](http://journals.plos.org/plosone/article?id=10.1371/journal.pone.0096814) got a PLOS publication out of his entry."
   ]
  },
  {
   "cell_type": "markdown",
   "metadata": {
    "slideshow": {
     "slide_type": "subslide"
    }
   },
   "source": [
    "Introduce deep learning\n",
    "\n",
    "[Please do not get all Strong AI on me](https://timdettmers.wordpress.com/2015/07/27/brain-vs-deep-learning-singularity/)\n",
    "\n",
    "Lends itself to parallel computation. GPUs are usefull for this."
   ]
  },
  {
   "cell_type": "markdown",
   "metadata": {
    "slideshow": {
     "slide_type": "subslide"
    }
   },
   "source": [
    "Picture of simple net\n",
    "\n",
    "Picture of architecture\n",
    "<img src=\"img/fig1.png\">\n",
    "\n",
    "Example of python code with Theano"
   ]
  },
  {
   "cell_type": "markdown",
   "metadata": {
    "slideshow": {
     "slide_type": "slide"
    }
   },
   "source": [
    "New opportunities come from tying together multiple models."
   ]
  },
  {
   "cell_type": "markdown",
   "metadata": {
    "slideshow": {
     "slide_type": "slide"
    }
   },
   "source": [
    "## Tools for speaking the same language\n",
    "\n",
    "- Facility at the command line opens up a world of open source software\n",
    "\n",
    "- Version control    --    git\n",
    "\n",
    "- Software Carpentry\n",
    "\n",
    "- Data Carpentry"
   ]
  },
  {
   "cell_type": "markdown",
   "metadata": {
    "slideshow": {
     "slide_type": "subslide"
    }
   },
   "source": [
    "## Use AWS free tier\n",
    "\n",
    "Groundhog Day for computing\n",
    "\n",
    "yes, it's slow, but it's free\n",
    "\n",
    "scripts coming to github"
   ]
  },
  {
   "cell_type": "markdown",
   "metadata": {
    "collapsed": true,
    "slideshow": {
     "slide_type": "slide"
    }
   },
   "source": [
    "## Thanks for listening. Next steps.\n",
    "\n",
    "- For the hackers\n",
    " - Stay away from anything making claims that would involve the FDA or HIPAA or humans in general.\n",
    " - There is enough going on in your yard or compost pile or maybe even your fridge.\n",
    "\n",
    "- For the employed\n",
    " - run a Software or Data Carpentry workshop within your school or research org.\n",
    "\n",
    "- For the enthusiast\n",
    " - Help me start the [Research Triangle BioCoders](http://www.meetup.com/The-Research-Triangle-BioCoders/)\n",
    "  - Try to find public biological datasets and publish better tutorials and example analyses."
   ]
  },
  {
   "cell_type": "code",
   "execution_count": null,
   "metadata": {
    "collapsed": false,
    "slideshow": {
     "slide_type": "slide"
    }
   },
   "outputs": [
    {
     "name": "stdout",
     "output_type": "stream",
     "text": [
      "[NbConvertApp] Converting notebook MLforLS.ipynb to slides\n",
      "[NbConvertApp] Writing 202636 bytes to MLforLS.slides.html\n",
      "[NbConvertApp] Redirecting reveal.js requests to https://cdn.jsdelivr.net/reveal.js/2.6.2\n",
      "Serving your slides at http://127.0.0.1:8000/MLforLS.slides.html\n",
      "Use Control-C to stop this server\n",
      "Created new window in existing browser session.\n",
      "WARNING:tornado.access:404 GET /custom.css (127.0.0.1) 0.79ms\n",
      "WARNING:tornado.access:404 GET /favicon.ico (127.0.0.1) 0.47ms\n"
     ]
    }
   ],
   "source": [
    "!jupyter nbconvert --to slides MLforLS.ipynb --post serve"
   ]
  },
  {
   "cell_type": "markdown",
   "metadata": {
    "slideshow": {
     "slide_type": "notes"
    }
   },
   "source": [
    "Podcasts\n",
    "Talking Machines podcast starting after 10 minutes\n",
    "a16z - breathless, but not all hype\n"
   ]
  }
 ],
 "metadata": {
  "celltoolbar": "Slideshow",
  "kernelspec": {
   "display_name": "Python 3",
   "language": "python",
   "name": "python3"
  },
  "language_info": {
   "codemirror_mode": {
    "name": "ipython",
    "version": 3
   },
   "file_extension": ".py",
   "mimetype": "text/x-python",
   "name": "python",
   "nbconvert_exporter": "python",
   "pygments_lexer": "ipython3",
   "version": "3.4.3"
  }
 },
 "nbformat": 4,
 "nbformat_minor": 0
}
