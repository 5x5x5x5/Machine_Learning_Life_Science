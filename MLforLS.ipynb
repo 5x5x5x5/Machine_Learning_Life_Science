{
 "cells": [
  {
   "cell_type": "markdown",
   "metadata": {
    "slideshow": {
     "slide_type": "slide"
    }
   },
   "source": [
    "# Machine Learning for Life Sciences\n",
    "\n",
    "Follow along at [5x5x5x5.github.io/Machine_Learning_Life_Sciences](http://5x5x5x5.github.io/Machine_Learning_Life_Science/)"
   ]
  },
  {
   "cell_type": "markdown",
   "metadata": {
    "slideshow": {
     "slide_type": "slide"
    }
   },
   "source": [
    "## Definitions sure to annoy serious practitioners\n",
    "\n",
    "Machine Learning - Generalizing from data using algoritms and computation\n"
   ]
  },
  {
   "cell_type": "markdown",
   "metadata": {
    "slideshow": {
     "slide_type": "fragment"
    }
   },
   "source": [
    "Life Sciences - Anything that wiggles from 20nm to 30m"
   ]
  },
  {
   "cell_type": "markdown",
   "metadata": {
    "slideshow": {
     "slide_type": "notes"
    }
   },
   "source": [
    "Podcasts\n",
    "Talking Machines podcast starting after 10 minutes\n",
    "a16z - breathless, but not all hype\n"
   ]
  },
  {
   "cell_type": "markdown",
   "metadata": {
    "slideshow": {
     "slide_type": "slide"
    }
   },
   "source": [
    "Life Sciences\n",
    "- Research frontier is relatively close\n",
    "- New developments are reducing costs and increasing reproducibility\n",
    " - Science Exchange\n",
    " - Riffyn\n",
    " - Emerald Cloud Lab\n",
    " - Transcriptics\n",
    "- Opening up new opportunities for data analysis"
   ]
  },
  {
   "cell_type": "markdown",
   "metadata": {
    "slideshow": {
     "slide_type": "subslide"
    }
   },
   "source": [
    "Remote experimentation biology\n",
    "\n",
    "pic of science exchange services\n"
   ]
  },
  {
   "cell_type": "markdown",
   "metadata": {
    "slideshow": {
     "slide_type": "subslide"
    }
   },
   "source": [
    "First standardization and then optimization of investigation\n",
    "\n",
    "Riffyn\n",
    "\n",
    "Process engineering for research methods\n",
    "\n",
    "Quality systems engineering\n",
    "\n",
    "Design of experimentation"
   ]
  },
  {
   "cell_type": "markdown",
   "metadata": {
    "slideshow": {
     "slide_type": "subslide"
    }
   },
   "source": [
    "Cloud labs\n",
    "\n",
    "Emerald Cloud Lab\n",
    "transcriptics"
   ]
  },
  {
   "cell_type": "markdown",
   "metadata": {
    "slideshow": {
     "slide_type": "slide"
    }
   },
   "source": [
    "Obligiory Data Science Triforce\n",
    "\n",
    "<img src=\"img/Data_Science_VD.png\">\n"
   ]
  },
  {
   "cell_type": "markdown",
   "metadata": {
    "slideshow": {
     "slide_type": "subslide"
    }
   },
   "source": [
    "Highway to the Danger Zone\n",
    "- Domain knowledge + Hacking skills\n",
    "- no statistical grounding \n",
    "- no basis for claims\n",
    "\n",
    "<img src=\"img/Data_Science_VD.png\">\n",
    "\n",
    "Fortunately, it requires near willful ignorance to acquire hacking skills and substantive expertise without also learning some math and statistics along the way. As such, the danger zone is sparsely populated, however, it does not take many to produce a lot of damage. Says [Drew Conway](http://drewconway.com/zia/2013/3/26/the-data-science-venn-diagram)"
   ]
  },
  {
   "cell_type": "markdown",
   "metadata": {
    "slideshow": {
     "slide_type": "subslide"
    }
   },
   "source": [
    "Another view of the Danger Zone\n",
    "\n",
    "pic of falling\n",
    "\n",
    "Stay away from FDA, HIPPA, claims of significance."
   ]
  },
  {
   "cell_type": "markdown",
   "metadata": {
    "slideshow": {
     "slide_type": "slide"
    }
   },
   "source": [
    "## Three examples with three techs\n",
    "- classification (QSAR) using scikit-learn in Python\n",
    "- next gen sequencing (standard R processing pipeline) RNA-seq\n",
    "- diagnostic image analysis with ConvNets in Python\n",
    "- bayesian inference with pyMC3 ??"
   ]
  },
  {
   "cell_type": "markdown",
   "metadata": {
    "slideshow": {
     "slide_type": "slide"
    }
   },
   "source": [
    "Machine Learning link to best visualization.\n",
    "\n",
    "Train a classifier (Holdouts, cross-validation, classifier selection and parameter search)\n",
    "\n",
    "Make predictions\n",
    "\n",
    "Evaluation metrics"
   ]
  },
  {
   "cell_type": "markdown",
   "metadata": {
    "slideshow": {
     "slide_type": "slide"
    }
   },
   "source": [
    "## QSAR\n",
    "\n",
    "- Visual of molecules\n",
    "- Example binary classification pipeline using scikit-learn\n",
    "- ROC curve"
   ]
  },
  {
   "cell_type": "markdown",
   "metadata": {
    "slideshow": {
     "slide_type": "slide"
    }
   },
   "source": [
    "## Next Gen Sequencing - RNA-Seq\n",
    "\n",
    "Woodchipper\n",
    "\n",
    "Another simple problem\n",
    "\n",
    "Larger datasets\n",
    "\n",
    "Different level of problem\n",
    "\n",
    "Show R in Jupyter notebook\n"
   ]
  },
  {
   "cell_type": "markdown",
   "metadata": {
    "slideshow": {
     "slide_type": "slide"
    }
   },
   "source": [
    "## Diagnostic Image Analysis\n",
    "\n",
    "Diabetic Retinopathy Competition recently from Kaggle.\n",
    "\n",
    "Eye picture\n",
    "\n",
    "The top # all used Convolutional Neural Nets"
   ]
  },
  {
   "cell_type": "markdown",
   "metadata": {
    "slideshow": {
     "slide_type": "subslide"
    }
   },
   "source": [
    "Introduce neural networks\n",
    "\n",
    "great link to neural network biology article\n",
    "\n",
    "Lends itself to parallel computation. GPU are usefull for this."
   ]
  },
  {
   "cell_type": "markdown",
   "metadata": {
    "slideshow": {
     "slide_type": "subslide"
    }
   },
   "source": [
    "Picture of simple net\n",
    "\n",
    "Picture of architecture\n",
    "\n",
    "Example of python code with Theano"
   ]
  },
  {
   "cell_type": "markdown",
   "metadata": {
    "slideshow": {
     "slide_type": "slide"
    }
   },
   "source": [
    "## Tools for speaking the same language\n",
    "\n",
    "Version control    --    git\n",
    "\n",
    "Software Carpentry\n",
    "\n",
    "Data Carpentry"
   ]
  },
  {
   "cell_type": "markdown",
   "metadata": {
    "slideshow": {
     "slide_type": "subslide"
    }
   },
   "source": [
    "## Use AWS free tier\n",
    "\n",
    "Groundhog Day for computing\n",
    "\n",
    "yes, it's slow, but it's free\n",
    "\n",
    "scripts coming to github"
   ]
  },
  {
   "cell_type": "markdown",
   "metadata": {
    "collapsed": true,
    "slideshow": {
     "slide_type": "slide"
    }
   },
   "source": [
    "- Stay away from anything involving the FDA or HIPAA or humans in general.\n",
    "- There is enough going on in your yard or compost pile or maybe even your fridge.\n",
    "- Hoping to get better biological datasets and well publicized examples.\n",
    "- More than Words"
   ]
  },
  {
   "cell_type": "code",
   "execution_count": null,
   "metadata": {
    "collapsed": false,
    "slideshow": {
     "slide_type": "slide"
    }
   },
   "outputs": [
    {
     "name": "stdout",
     "output_type": "stream",
     "text": [
      "[NbConvertApp] Converting notebook MLforLS.ipynb to slides\n",
      "[NbConvertApp] Writing 202636 bytes to MLforLS.slides.html\n",
      "[NbConvertApp] Redirecting reveal.js requests to https://cdn.jsdelivr.net/reveal.js/2.6.2\n",
      "Serving your slides at http://127.0.0.1:8000/MLforLS.slides.html\n",
      "Use Control-C to stop this server\n",
      "Created new window in existing browser session.\n",
      "WARNING:tornado.access:404 GET /custom.css (127.0.0.1) 0.79ms\n",
      "WARNING:tornado.access:404 GET /favicon.ico (127.0.0.1) 0.47ms\n"
     ]
    }
   ],
   "source": [
    "!jupyter nbconvert --to slides MLforLS.ipynb --post serve"
   ]
  },
  {
   "cell_type": "code",
   "execution_count": null,
   "metadata": {
    "collapsed": true
   },
   "outputs": [],
   "source": [
    "%^C"
   ]
  },
  {
   "cell_type": "code",
   "execution_count": 1,
   "metadata": {
    "collapsed": false,
    "slideshow": {
     "slide_type": "slide"
    }
   },
   "outputs": [
    {
     "data": {
      "text/html": [
       "<style>\n",
       "    @font-face {\n",
       "        font-family: \"Computer Modern\";\n",
       "        src: url('http://mirrors.ctan.org/fonts/cm-unicode/fonts/otf/cmunss.otf');\n",
       "    }\n",
       "    div.cell{\n",
       "        width: 90%;\n",
       "/*        margin-left:auto;*/\n",
       "/*        margin-right:auto;*/\n",
       "    }\n",
       "    ul {\n",
       "        line-height: 145%;\n",
       "        font-size: 90%;\n",
       "    }\n",
       "    li {\n",
       "        margin-bottom: 1em;\n",
       "    }\n",
       "    h1 {\n",
       "        font-family: Helvetica, serif;\n",
       "    }\n",
       "    h4{\n",
       "        margin-top: 12px;\n",
       "        margin-bottom: 3px;\n",
       "       }\n",
       "    div.text_cell_render{\n",
       "        font-family: Computer Modern, \"Helvetica Neue\", Arial, Helvetica, Geneva, sans-serif;\n",
       "        line-height: 145%;\n",
       "        font-size: 130%;\n",
       "        width: 90%;\n",
       "        margin-left:auto;\n",
       "        margin-right:auto;\n",
       "    }\n",
       "    .CodeMirror{\n",
       "            font-family: \"Source Code Pro\", source-code-pro,Consolas, monospace;\n",
       "    }\n",
       "/*    .prompt{\n",
       "        display: None;\n",
       "    }*/\n",
       "    .text_cell_render h5 {\n",
       "        font-weight: 300;\n",
       "        font-size: 16pt;\n",
       "        color: #4057A1;\n",
       "        font-style: italic;\n",
       "        margin-bottom: 0.5em;\n",
       "        margin-top: 0.5em;\n",
       "        display: block;\n",
       "    }\n",
       "\n",
       "    .warning{\n",
       "        color: rgb( 240, 20, 20 )\n",
       "        }\n",
       "</style>\n",
       "<script>\n",
       "    MathJax.Hub.Config({\n",
       "                        TeX: {\n",
       "                           extensions: [\"AMSmath.js\"]\n",
       "                           },\n",
       "                tex2jax: {\n",
       "                    inlineMath: [ ['$','$'], [\"\\\\(\",\"\\\\)\"] ],\n",
       "                    displayMath: [ ['$$','$$'], [\"\\\\[\",\"\\\\]\"] ]\n",
       "                },\n",
       "                displayAlign: 'center', // Change this to 'center' to center equations.\n",
       "                \"HTML-CSS\": {\n",
       "                    styles: {'.MathJax_Display': {\"margin\": 4}}\n",
       "                }\n",
       "        });\n",
       "</script>\n"
      ],
      "text/plain": [
       "<IPython.core.display.HTML object>"
      ]
     },
     "execution_count": 1,
     "metadata": {},
     "output_type": "execute_result"
    }
   ],
   "source": [
    "from IPython.core.display import HTML\n",
    "def css_styling():\n",
    "    styles = open(\"styles/custom.css\", \"r\").read()\n",
    "    return HTML(styles)\n",
    "css_styling()"
   ]
  },
  {
   "cell_type": "code",
   "execution_count": null,
   "metadata": {
    "collapsed": true
   },
   "outputs": [],
   "source": []
  }
 ],
 "metadata": {
  "celltoolbar": "Slideshow",
  "kernelspec": {
   "display_name": "Python 3",
   "language": "python",
   "name": "python3"
  },
  "language_info": {
   "codemirror_mode": {
    "name": "ipython",
    "version": 3
   },
   "file_extension": ".py",
   "mimetype": "text/x-python",
   "name": "python",
   "nbconvert_exporter": "python",
   "pygments_lexer": "ipython3",
   "version": "3.4.3"
  }
 },
 "nbformat": 4,
 "nbformat_minor": 0
}
