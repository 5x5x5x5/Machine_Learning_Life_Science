{
 "cells": [
  {
   "cell_type": "markdown",
   "metadata": {
    "slideshow": {
     "slide_type": "slide"
    }
   },
   "source": [
    "# Machine Learning in the Life Sciences"
   ]
  },
  {
   "cell_type": "markdown",
   "metadata": {
    "slideshow": {
     "slide_type": "slide"
    }
   },
   "source": [
    "Life Sciences\n",
    "- Research frontier is relatively close\n",
    "- new developments bring it closer\n",
    "-- Emerald Cloud Lab\n",
    "-- Transcriptics\n",
    "-- Science Exchange\n",
    "-- Riffyn\n",
    "- Opens up new ways to think about data analysis"
   ]
  },
  {
   "cell_type": "markdown",
   "metadata": {
    "slideshow": {
     "slide_type": "slide"
    }
   },
   "source": [
    "Highway to the Danger Zone\n",
    "- Domain knowledge\n",
    "- Hacking skills\n",
    "- no statistical grounding - no basis for claims"
   ]
  },
  {
   "cell_type": "markdown",
   "metadata": {
    "slideshow": {
     "slide_type": "slide"
    }
   },
   "source": [
    "##Three examples with three techs\n",
    "- classification (QSAR) using scikit-learn in Python\n",
    "- next gen sequencing (standard R processing pipeline) RNA-seq\n",
    "- diagnostic image analysis with ConvNets in Python\n",
    "- bayesian inference with pyMC3 ??"
   ]
  },
  {
   "cell_type": "markdown",
   "metadata": {
    "slideshow": {
     "slide_type": "slide"
    }
   },
   "source": [
    "## QSAR"
   ]
  },
  {
   "cell_type": "markdown",
   "metadata": {
    "slideshow": {
     "slide_type": "slide"
    }
   },
   "source": [
    "## Next Gen Sequencing\n",
    "\n",
    "Woodchipper"
   ]
  },
  {
   "cell_type": "markdown",
   "metadata": {
    "slideshow": {
     "slide_type": "slide"
    }
   },
   "source": [
    "## Diagnostic Image Analysis\n",
    "\n",
    "Diabetic Retinopathy Competition recently from Kaggle.\n",
    "\n",
    "\n",
    "The top # all used Convolutional Neural Nets"
   ]
  },
  {
   "cell_type": "markdown",
   "metadata": {
    "slideshow": {
     "slide_type": "slide"
    }
   },
   "source": [
    "## Bayesian Inference with pyMC3"
   ]
  },
  {
   "cell_type": "markdown",
   "metadata": {
    "collapsed": true,
    "slideshow": {
     "slide_type": "notes"
    }
   },
   "source": [
    "- Stay away from anything involving the FDA or HIPAA or humans ingeneral.\n",
    "- There is enough going on in your yard or compost pile or maybe even your fridge.\n",
    "- Hoping to get better biological datasets and well publicized examples.\n",
    "- More than Words"
   ]
  },
  {
   "cell_type": "code",
   "execution_count": null,
   "metadata": {
    "collapsed": false
   },
   "outputs": [
    {
     "name": "stdout",
     "output_type": "stream",
     "text": [
      "[NbConvertApp] Converting notebook MLforLS.ipynb to slides\n",
      "[NbConvertApp] Writing 195518 bytes to MLforLS.slides.html\n",
      "[NbConvertApp] Redirecting reveal.js requests to https://cdn.jsdelivr.net/reveal.js/2.6.2\n",
      "Serving your slides at http://127.0.0.1:8000/MLforLS.slides.html\n",
      "Use Control-C to stop this server\n",
      "WARNING:tornado.access:404 GET /custom.css (127.0.0.1) 0.44ms\n",
      "WARNING:tornado.access:404 GET /favicon.ico (127.0.0.1) 0.55ms\n"
     ]
    }
   ],
   "source": [
    "!jupyter nbconvert --to slides MLforLS.ipynb --post serve"
   ]
  },
  {
   "cell_type": "code",
   "execution_count": null,
   "metadata": {
    "collapsed": true
   },
   "outputs": [],
   "source": []
  }
 ],
 "metadata": {
  "celltoolbar": "Slideshow",
  "kernelspec": {
   "display_name": "Python 3",
   "language": "python",
   "name": "python3"
  },
  "language_info": {
   "codemirror_mode": {
    "name": "ipython",
    "version": 3
   },
   "file_extension": ".py",
   "mimetype": "text/x-python",
   "name": "python",
   "nbconvert_exporter": "python",
   "pygments_lexer": "ipython3",
   "version": "3.4.3"
  }
 },
 "nbformat": 4,
 "nbformat_minor": 0
}
