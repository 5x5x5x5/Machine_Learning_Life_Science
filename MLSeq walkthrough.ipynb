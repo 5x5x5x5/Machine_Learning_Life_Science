{
 "cells": [
  {
   "cell_type": "code",
   "execution_count": 2,
   "metadata": {
    "collapsed": false
   },
   "outputs": [
    {
     "name": "stderr",
     "output_type": "stream",
     "text": [
      "Bioconductor version 3.1 (BiocInstaller 1.18.4), ?biocLite for help\n"
     ]
    }
   ],
   "source": [
    "source(\"https://bioconductor.org/biocLite.R\")"
   ]
  },
  {
   "cell_type": "code",
   "execution_count": 3,
   "metadata": {
    "collapsed": false
   },
   "outputs": [
    {
     "name": "stderr",
     "output_type": "stream",
     "text": [
      "BioC_mirror: http://bioconductor.org\n",
      "Using Bioconductor version 3.1 (BiocInstaller 1.18.4), R version 3.2.2.\n",
      "Installing package(s) ‘MLSeq’\n",
      "also installing the dependencies ‘pbkrtest’, ‘quantreg’, ‘lme4’, ‘brglm’, ‘GenomeInfoDb’, ‘XVector’, ‘futile.logger’, ‘AnnotationDbi’, ‘annotate’, ‘gridExtra’, ‘ggplot2’, ‘car’, ‘reshape2’, ‘foreach’, ‘BradleyTerry2’, ‘S4Vectors’, ‘IRanges’, ‘GenomicRanges’, ‘BiocParallel’, ‘genefilter’, ‘geneplotter’, ‘Hmisc’, ‘caret’, ‘DESeq2’, ‘Biobase’, ‘edgeR’\n",
      "\n"
     ]
    },
    {
     "name": "stdout",
     "output_type": "stream",
     "text": [
      "\n",
      "The downloaded source packages are in\n",
      "\t‘/tmp/RtmpWM8WqY/downloaded_packages’\n"
     ]
    },
    {
     "name": "stderr",
     "output_type": "stream",
     "text": [
      "Old packages: 'curl', 'devtools', 'evaluate', 'git2r', 'jsonlite', 'mime',\n",
      "  'R6', 'Rcpp', 'xml2', 'XML', 'spatial'\n"
     ]
    }
   ],
   "source": [
    "biocLite(\"MLSeq\")"
   ]
  },
  {
   "cell_type": "markdown",
   "metadata": {},
   "source": [
    "## previous command took 5 minutes to complete"
   ]
  },
  {
   "cell_type": "code",
   "execution_count": 5,
   "metadata": {
    "collapsed": false
   },
   "outputs": [
    {
     "data": {
      "text/plain": [
       "\n",
       "To cite package ‘MLSeq’ in publications use:\n",
       "\n",
       "  Gokmen Zararsiz, Dincer Goksuluk, Selcuk Korkmaz, Vahap Eldem, Izzet\n",
       "  Parug Duru, Turgay Unver and Ahmet Ozturk (2015). MLSeq: Machine\n",
       "  learning interface for RNA-Seq data. R package version 1.6.0.\n",
       "\n",
       "A BibTeX entry for LaTeX users is\n",
       "\n",
       "  @Manual{,\n",
       "    title = {MLSeq: Machine learning interface for RNA-Seq data},\n",
       "    author = {Gokmen Zararsiz and Dincer Goksuluk and Selcuk Korkmaz and Vahap Eldem and Izzet Parug Duru and Turgay Unver and Ahmet Ozturk},\n",
       "    year = {2015},\n",
       "    note = {R package version 1.6.0},\n",
       "  }\n",
       "\n",
       "ATTENTION: This citation information has been auto-generated from the\n",
       "package DESCRIPTION file and may need manual editing, see\n",
       "‘help(\"citation\")’.\n"
      ]
     },
     "execution_count": 5,
     "metadata": {},
     "output_type": "execute_result"
    }
   ],
   "source": [
    "citation(\"MLSeq\")"
   ]
  },
  {
   "cell_type": "code",
   "execution_count": 4,
   "metadata": {
    "collapsed": false
   },
   "outputs": [
    {
     "name": "stderr",
     "output_type": "stream",
     "text": [
      "Loading required package: caret\n",
      "Loading required package: lattice\n",
      "Loading required package: ggplot2\n",
      "Loading required package: DESeq2\n",
      "Loading required package: S4Vectors\n",
      "Loading required package: stats4\n",
      "Loading required package: BiocGenerics\n",
      "Loading required package: parallel\n",
      "\n",
      "Attaching package: ‘BiocGenerics’\n",
      "\n",
      "The following objects are masked from ‘package:parallel’:\n",
      "\n",
      "    clusterApply, clusterApplyLB, clusterCall, clusterEvalQ,\n",
      "    clusterExport, clusterMap, parApply, parCapply, parLapply,\n",
      "    parLapplyLB, parRapply, parSapply, parSapplyLB\n",
      "\n",
      "The following object is masked from ‘package:stats’:\n",
      "\n",
      "    xtabs\n",
      "\n",
      "The following objects are masked from ‘package:base’:\n",
      "\n",
      "    anyDuplicated, append, as.data.frame, as.vector, cbind, colnames,\n",
      "    do.call, duplicated, eval, evalq, Filter, Find, get, intersect,\n",
      "    is.unsorted, lapply, Map, mapply, match, mget, order, paste, pmax,\n",
      "    pmax.int, pmin, pmin.int, Position, rank, rbind, Reduce, rep.int,\n",
      "    rownames, sapply, setdiff, sort, table, tapply, union, unique,\n",
      "    unlist, unsplit\n",
      "\n",
      "Creating a generic function for ‘nchar’ from package ‘base’ in package ‘S4Vectors’\n",
      "Loading required package: IRanges\n",
      "Loading required package: GenomicRanges\n",
      "Loading required package: GenomeInfoDb\n",
      "Loading required package: Rcpp\n",
      "Loading required package: RcppArmadillo\n",
      "Loading required package: Biobase\n",
      "Welcome to Bioconductor\n",
      "\n",
      "    Vignettes contain introductory material; view with\n",
      "    'browseVignettes()'. To cite Bioconductor, see\n",
      "    'citation(\"Biobase\")', and for packages 'citation(\"pkgname\")'.\n",
      "\n",
      "Loading required package: limma\n",
      "\n",
      "Attaching package: ‘limma’\n",
      "\n",
      "The following object is masked from ‘package:DESeq2’:\n",
      "\n",
      "    plotMA\n",
      "\n",
      "The following object is masked from ‘package:BiocGenerics’:\n",
      "\n",
      "    plotMA\n",
      "\n",
      "Loading required package: randomForest\n",
      "randomForest 4.6-10\n",
      "Type rfNews() to see new features/changes/bug fixes.\n",
      "\n",
      "Attaching package: ‘randomForest’\n",
      "\n",
      "The following object is masked from ‘package:Biobase’:\n",
      "\n",
      "    combine\n",
      "\n",
      "The following object is masked from ‘package:BiocGenerics’:\n",
      "\n",
      "    combine\n",
      "\n",
      "Loading required package: edgeR\n"
     ]
    }
   ],
   "source": [
    "library(MLSeq)"
   ]
  },
  {
   "cell_type": "code",
   "execution_count": 6,
   "metadata": {
    "collapsed": false
   },
   "outputs": [
    {
     "data": {
      "text/html": [
       "'/home/daniel/R/x86_64-pc-linux-gnu-library/3.2/MLSeq/extdata/cervical.txt'"
      ],
      "text/latex": [
       "'/home/daniel/R/x86_64-pc-linux-gnu-library/3.2/MLSeq/extdata/cervical.txt'"
      ],
      "text/markdown": [
       "'/home/daniel/R/x86_64-pc-linux-gnu-library/3.2/MLSeq/extdata/cervical.txt'"
      ],
      "text/plain": [
       "[1] \"/home/daniel/R/x86_64-pc-linux-gnu-library/3.2/MLSeq/extdata/cervical.txt\""
      ]
     },
     "execution_count": 6,
     "metadata": {},
     "output_type": "execute_result"
    }
   ],
   "source": [
    "filepath = system.file(\"extdata/cervical.txt\", package = \"MLSeq\")\n",
    "filepath"
   ]
  },
  {
   "cell_type": "code",
   "execution_count": 7,
   "metadata": {
    "collapsed": true
   },
   "outputs": [],
   "source": [
    "cervical = read.table(filepath, header = TRUE)"
   ]
  },
  {
   "cell_type": "code",
   "execution_count": 8,
   "metadata": {
    "collapsed": false
   },
   "outputs": [
    {
     "data": {
      "text/html": [
       "<table>\n",
       "<thead><tr><th></th><th scope=col>N1</th><th scope=col>N2</th><th scope=col>N3</th><th scope=col>N4</th><th scope=col>N5</th></tr></thead>\n",
       "<tbody>\n",
       "\t<tr><th scope=row>let-7a</th><td>865</td><td>810</td><td>5505</td><td>6692</td><td>1456</td></tr>\n",
       "\t<tr><th scope=row>let-7a*</th><td>3</td><td>12</td><td>30</td><td>73</td><td>6</td></tr>\n",
       "\t<tr><th scope=row>let-7b</th><td>975</td><td>2790</td><td>4912</td><td>24286</td><td>1759</td></tr>\n",
       "\t<tr><th scope=row>let-7b*</th><td>15</td><td>18</td><td>27</td><td>119</td><td>11</td></tr>\n",
       "\t<tr><th scope=row>let-7c</th><td>828</td><td>1251</td><td>2973</td><td>6413</td><td>713</td></tr>\n",
       "\t<tr><th scope=row>let-7c*</th><td>0</td><td>0</td><td>0</td><td>1</td><td>0</td></tr>\n",
       "</tbody>\n",
       "</table>\n"
      ],
      "text/latex": [
       "\\begin{tabular}{r|lllll}\n",
       "  & N1 & N2 & N3 & N4 & N5\\\\\n",
       "\\hline\n",
       "\tlet-7a & 865 & 810 & 5505 & 6692 & 1456\\\\\n",
       "\tlet-7a* & 3 & 12 & 30 & 73 & 6\\\\\n",
       "\tlet-7b & 975 & 2790 & 4912 & 24286 & 1759\\\\\n",
       "\tlet-7b* & 15 & 18 & 27 & 119 & 11\\\\\n",
       "\tlet-7c & 828 & 1251 & 2973 & 6413 & 713\\\\\n",
       "\tlet-7c* & 0 & 0 & 0 & 1 & 0\\\\\n",
       "\\end{tabular}\n"
      ],
      "text/plain": [
       "         N1   N2   N3    N4   N5\n",
       "let-7a  865  810 5505  6692 1456\n",
       "let-7a*   3   12   30    73    6\n",
       "let-7b  975 2790 4912 24286 1759\n",
       "let-7b*  15   18   27   119   11\n",
       "let-7c  828 1251 2973  6413  713\n",
       "let-7c*   0    0    0     1    0"
      ]
     },
     "execution_count": 8,
     "metadata": {},
     "output_type": "execute_result"
    }
   ],
   "source": [
    "head(cervical[, 1:5])"
   ]
  },
  {
   "cell_type": "code",
   "execution_count": 9,
   "metadata": {
    "collapsed": false
   },
   "outputs": [
    {
     "data": {
      "text/html": [
       "'data.frame'"
      ],
      "text/latex": [
       "'data.frame'"
      ],
      "text/markdown": [
       "'data.frame'"
      ],
      "text/plain": [
       "[1] \"data.frame\""
      ]
     },
     "execution_count": 9,
     "metadata": {},
     "output_type": "execute_result"
    }
   ],
   "source": [
    "class(cervical)"
   ]
  },
  {
   "cell_type": "code",
   "execution_count": 10,
   "metadata": {
    "collapsed": false
   },
   "outputs": [
    {
     "data": {
      "text/html": [
       "<ol class=list-inline>\n",
       "\t<li>714</li>\n",
       "\t<li>58</li>\n",
       "</ol>\n"
      ],
      "text/latex": [
       "\\begin{enumerate*}\n",
       "\\item 714\n",
       "\\item 58\n",
       "\\end{enumerate*}\n"
      ],
      "text/markdown": [
       "1. 714\n",
       "2. 58\n",
       "\n",
       "\n"
      ],
      "text/plain": [
       "[1] 714  58"
      ]
     },
     "execution_count": 10,
     "metadata": {},
     "output_type": "execute_result"
    }
   ],
   "source": [
    "dim(cervical)"
   ]
  },
  {
   "cell_type": "markdown",
   "metadata": {},
   "source": [
    "First 29 columns of the data contain the miRNA mapped counts of non-tumor samples, while the last 29 comlumns contain the count information of tumor samples. We need to create a class label in order to apply classification models."
   ]
  },
  {
   "cell_type": "code",
   "execution_count": 11,
   "metadata": {
    "collapsed": false
   },
   "outputs": [
    {
     "data": {
      "text/html": [
       "<ol class=list-inline>\n",
       "\t<li>N</li>\n",
       "\t<li>N</li>\n",
       "\t<li>N</li>\n",
       "\t<li>N</li>\n",
       "\t<li>N</li>\n",
       "\t<li>N</li>\n",
       "\t<li>N</li>\n",
       "\t<li>N</li>\n",
       "\t<li>N</li>\n",
       "\t<li>N</li>\n",
       "\t<li>N</li>\n",
       "\t<li>N</li>\n",
       "\t<li>N</li>\n",
       "\t<li>N</li>\n",
       "\t<li>N</li>\n",
       "\t<li>N</li>\n",
       "\t<li>N</li>\n",
       "\t<li>N</li>\n",
       "\t<li>N</li>\n",
       "\t<li>N</li>\n",
       "\t<li>N</li>\n",
       "\t<li>N</li>\n",
       "\t<li>N</li>\n",
       "\t<li>N</li>\n",
       "\t<li>N</li>\n",
       "\t<li>N</li>\n",
       "\t<li>N</li>\n",
       "\t<li>N</li>\n",
       "\t<li>N</li>\n",
       "\t<li>T</li>\n",
       "\t<li>T</li>\n",
       "\t<li>T</li>\n",
       "\t<li>T</li>\n",
       "\t<li>T</li>\n",
       "\t<li>T</li>\n",
       "\t<li>T</li>\n",
       "\t<li>T</li>\n",
       "\t<li>T</li>\n",
       "\t<li>T</li>\n",
       "\t<li>T</li>\n",
       "\t<li>T</li>\n",
       "\t<li>T</li>\n",
       "\t<li>T</li>\n",
       "\t<li>T</li>\n",
       "\t<li>T</li>\n",
       "\t<li>T</li>\n",
       "\t<li>T</li>\n",
       "\t<li>T</li>\n",
       "\t<li>T</li>\n",
       "\t<li>T</li>\n",
       "\t<li>T</li>\n",
       "\t<li>T</li>\n",
       "\t<li>T</li>\n",
       "\t<li>T</li>\n",
       "\t<li>T</li>\n",
       "\t<li>T</li>\n",
       "\t<li>T</li>\n",
       "\t<li>T</li>\n",
       "</ol>\n"
      ],
      "text/latex": [
       "\\begin{enumerate*}\n",
       "\\item N\n",
       "\\item N\n",
       "\\item N\n",
       "\\item N\n",
       "\\item N\n",
       "\\item N\n",
       "\\item N\n",
       "\\item N\n",
       "\\item N\n",
       "\\item N\n",
       "\\item N\n",
       "\\item N\n",
       "\\item N\n",
       "\\item N\n",
       "\\item N\n",
       "\\item N\n",
       "\\item N\n",
       "\\item N\n",
       "\\item N\n",
       "\\item N\n",
       "\\item N\n",
       "\\item N\n",
       "\\item N\n",
       "\\item N\n",
       "\\item N\n",
       "\\item N\n",
       "\\item N\n",
       "\\item N\n",
       "\\item N\n",
       "\\item T\n",
       "\\item T\n",
       "\\item T\n",
       "\\item T\n",
       "\\item T\n",
       "\\item T\n",
       "\\item T\n",
       "\\item T\n",
       "\\item T\n",
       "\\item T\n",
       "\\item T\n",
       "\\item T\n",
       "\\item T\n",
       "\\item T\n",
       "\\item T\n",
       "\\item T\n",
       "\\item T\n",
       "\\item T\n",
       "\\item T\n",
       "\\item T\n",
       "\\item T\n",
       "\\item T\n",
       "\\item T\n",
       "\\item T\n",
       "\\item T\n",
       "\\item T\n",
       "\\item T\n",
       "\\item T\n",
       "\\item T\n",
       "\\end{enumerate*}\n"
      ],
      "text/markdown": [
       "1. N\n",
       "2. N\n",
       "3. N\n",
       "4. N\n",
       "5. N\n",
       "6. N\n",
       "7. N\n",
       "8. N\n",
       "9. N\n",
       "10. N\n",
       "11. N\n",
       "12. N\n",
       "13. N\n",
       "14. N\n",
       "15. N\n",
       "16. N\n",
       "17. N\n",
       "18. N\n",
       "19. N\n",
       "20. N\n",
       "21. N\n",
       "22. N\n",
       "23. N\n",
       "24. N\n",
       "25. N\n",
       "26. N\n",
       "27. N\n",
       "28. N\n",
       "29. N\n",
       "30. T\n",
       "31. T\n",
       "32. T\n",
       "33. T\n",
       "34. T\n",
       "35. T\n",
       "36. T\n",
       "37. T\n",
       "38. T\n",
       "39. T\n",
       "40. T\n",
       "41. T\n",
       "42. T\n",
       "43. T\n",
       "44. T\n",
       "45. T\n",
       "46. T\n",
       "47. T\n",
       "48. T\n",
       "49. T\n",
       "50. T\n",
       "51. T\n",
       "52. T\n",
       "53. T\n",
       "54. T\n",
       "55. T\n",
       "56. T\n",
       "57. T\n",
       "58. T\n",
       "\n",
       "\n"
      ],
      "text/plain": [
       " [1] N N N N N N N N N N N N N N N N N N N N N N N N N N N N N T T T T T T T T T\n",
       "[39] T T T T T T T T T T T T T T T T T T T T\n",
       "Levels: N T"
      ]
     },
     "execution_count": 11,
     "metadata": {},
     "output_type": "execute_result"
    }
   ],
   "source": [
    "class = data.frame(condition = factor(rep(c(\"N\", \"T\"), c(29, 29))))\n",
    "as.factor(class[, 1])"
   ]
  },
  {
   "cell_type": "markdown",
   "metadata": {},
   "source": [
    "For simplicity, we can work with a subset of cervical data using the first 150 features."
   ]
  },
  {
   "cell_type": "code",
   "execution_count": 12,
   "metadata": {
    "collapsed": true
   },
   "outputs": [],
   "source": [
    "data = cervical[c(1:150), ]"
   ]
  },
  {
   "cell_type": "markdown",
   "metadata": {},
   "source": [
    "Now we can split the data into training and test sets. The thraining set can be used to build classification models, and the test set can be used to assess the performance of each model. We use the set.seed function to specify initiala values of a random-number seed and use the sample function for selection."
   ]
  },
  {
   "cell_type": "code",
   "execution_count": 13,
   "metadata": {
    "collapsed": true
   },
   "outputs": [],
   "source": [
    "nTest = ceiling(ncol(data) * 0.2)\n",
    "set.seed(12345)\n",
    "ind = sample(ncol(data), nTest, FALSE)"
   ]
  },
  {
   "cell_type": "markdown",
   "metadata": {},
   "source": [
    "Now, training and test sets can be created based on this sampling process."
   ]
  },
  {
   "cell_type": "code",
   "execution_count": 18,
   "metadata": {
    "collapsed": true
   },
   "outputs": [],
   "source": [
    "data.train = data[, -ind]\n",
    "data.train = as.matrix(data.train + 1)\n",
    "classtr = data.frame(condition = class[-ind, ])\n",
    "\n",
    "data.test = data[, ind]\n",
    "data.test = as.matrix(data.test + 1)\n",
    "classts = data.frame(condition = class[ind, ])"
   ]
  },
  {
   "cell_type": "markdown",
   "metadata": {},
   "source": [
    "Now we have 46 samples which will be used to train the classification models and have 12 remaining samples to test model performance."
   ]
  },
  {
   "cell_type": "code",
   "execution_count": 19,
   "metadata": {
    "collapsed": false
   },
   "outputs": [
    {
     "data": {
      "text/html": [
       "<ol class=list-inline>\n",
       "\t<li>150</li>\n",
       "\t<li>46</li>\n",
       "</ol>\n"
      ],
      "text/latex": [
       "\\begin{enumerate*}\n",
       "\\item 150\n",
       "\\item 46\n",
       "\\end{enumerate*}\n"
      ],
      "text/markdown": [
       "1. 150\n",
       "2. 46\n",
       "\n",
       "\n"
      ],
      "text/plain": [
       "[1] 150  46"
      ]
     },
     "execution_count": 19,
     "metadata": {},
     "output_type": "execute_result"
    }
   ],
   "source": [
    "dim(data.train)"
   ]
  },
  {
   "cell_type": "code",
   "execution_count": 20,
   "metadata": {
    "collapsed": false
   },
   "outputs": [
    {
     "data": {
      "text/html": [
       "<ol class=list-inline>\n",
       "\t<li>150</li>\n",
       "\t<li>12</li>\n",
       "</ol>\n"
      ],
      "text/latex": [
       "\\begin{enumerate*}\n",
       "\\item 150\n",
       "\\item 12\n",
       "\\end{enumerate*}\n"
      ],
      "text/markdown": [
       "1. 150\n",
       "2. 12\n",
       "\n",
       "\n"
      ],
      "text/plain": [
       "[1] 150  12"
      ]
     },
     "execution_count": 20,
     "metadata": {},
     "output_type": "execute_result"
    }
   ],
   "source": [
    "dim(data.test)"
   ]
  },
  {
   "cell_type": "code",
   "execution_count": 21,
   "metadata": {
    "collapsed": false
   },
   "outputs": [
    {
     "name": "stderr",
     "output_type": "stream",
     "text": [
      "converting counts to integer mode\n",
      "estimating size factors\n",
      "estimating dispersions\n",
      "gene-wise dispersion estimates\n",
      "mean-dispersion relationship\n",
      "final dispersion estimates\n",
      "fitting model and testing\n",
      "-- replacing outliers and refitting for 15 genes\n",
      "-- DESeq argument 'minReplicatesForReplace' = 7 \n",
      "-- original counts are preserved in counts(dds)\n",
      "estimating dispersions\n",
      "fitting model and testing\n"
     ]
    },
    {
     "data": {
      "text/plain": [
       "class: DESeqDataSet \n",
       "dim: 150 46 \n",
       "exptData(0):\n",
       "assays(5): counts mu cooks replaceCounts replaceCooks\n",
       "rownames(150): let-7a let-7a* ... miR-18a* miR-18b\n",
       "rowRanges metadata column names(28): baseMean baseVar ... maxCooks\n",
       "  replace\n",
       "colnames(46): 1 2 ... 45 46\n",
       "colData names(3): condition sizeFactor replaceable"
      ]
     },
     "execution_count": 21,
     "metadata": {},
     "output_type": "execute_result"
    }
   ],
   "source": [
    "data.trainS4 = DESeqDataSetFromMatrix(countData = data.train, colData = classtr, formula(~condition))\n",
    "data.trainS4 = DESeq(data.trainS4, fitType = \"local\")\n",
    "data.trainS4\n"
   ]
  },
  {
   "cell_type": "code",
   "execution_count": 22,
   "metadata": {
    "collapsed": false
   },
   "outputs": [
    {
     "name": "stderr",
     "output_type": "stream",
     "text": [
      "converting counts to integer mode\n",
      "estimating size factors\n",
      "estimating dispersions\n",
      "gene-wise dispersion estimates\n",
      "mean-dispersion relationship\n",
      "final dispersion estimates\n",
      "fitting model and testing\n"
     ]
    },
    {
     "data": {
      "text/plain": [
       "class: DESeqDataSet \n",
       "dim: 150 12 \n",
       "exptData(0):\n",
       "assays(3): counts mu cooks\n",
       "rownames(150): let-7a let-7a* ... miR-18a* miR-18b\n",
       "rowRanges metadata column names(27): baseMean baseVar ... deviance\n",
       "  maxCooks\n",
       "colnames(12): 1 2 ... 11 12\n",
       "colData names(2): condition sizeFactor"
      ]
     },
     "execution_count": 22,
     "metadata": {},
     "output_type": "execute_result"
    }
   ],
   "source": [
    "data.testS4 = DESeqDataSetFromMatrix(countData = data.test, colData = classts, formula(~condition))\n",
    "data.testS4 = DESeq(data.testS4, fitType = \"local\")\n",
    "data.testS4"
   ]
  },
  {
   "cell_type": "code",
   "execution_count": 23,
   "metadata": {
    "collapsed": false
   },
   "outputs": [
    {
     "name": "stderr",
     "output_type": "stream",
     "text": [
      "found already estimated dispersions, replacing these\n",
      "gene-wise dispersion estimates\n",
      "mean-dispersion relationship\n",
      "final dispersion estimates\n"
     ]
    },
    {
     "name": "stdout",
     "output_type": "stream",
     "text": [
      "1 package is needed for this model and is not installed. (kernlab). Would you like to try to install it now?"
     ]
    },
    {
     "ename": "ERROR",
     "evalue": "Error in checkInstall(models$library): \n",
     "output_type": "error",
     "traceback": [
      "Error in checkInstall(models$library): \n"
     ]
    },
    {
     "ename": "ERROR",
     "evalue": "Error in eval(expr, envir, enclos): object 'svm' not found\n",
     "output_type": "error",
     "traceback": [
      "Error in eval(expr, envir, enclos): object 'svm' not found\n"
     ]
    }
   ],
   "source": [
    "svm = classify(data = data.trainS4, method = \"svm\", normalize = \"deseq\", deseqTransform = \"vst\", cv = 5, rpt = 3, ref = \"T\")\n",
    "\n",
    "svm"
   ]
  },
  {
   "cell_type": "code",
   "execution_count": 25,
   "metadata": {
    "collapsed": false
   },
   "outputs": [
    {
     "name": "stderr",
     "output_type": "stream",
     "text": [
      "Installing package into ‘/home/daniel/R/x86_64-pc-linux-gnu-library/3.2’\n",
      "(as ‘lib’ is unspecified)\n"
     ]
    },
    {
     "name": "stdout",
     "output_type": "stream",
     "text": [
      "\n",
      "The downloaded source packages are in\n",
      "\t‘/tmp/RtmpWM8WqY/downloaded_packages’\n"
     ]
    }
   ],
   "source": [
    "install.packages(\"kernlab\", repos='http://archive.linux.duke.edu/cran/')"
   ]
  },
  {
   "cell_type": "code",
   "execution_count": 27,
   "metadata": {
    "collapsed": false
   },
   "outputs": [
    {
     "name": "stderr",
     "output_type": "stream",
     "text": [
      "Installing package into ‘/home/daniel/R/x86_64-pc-linux-gnu-library/3.2’\n",
      "(as ‘lib’ is unspecified)\n"
     ]
    },
    {
     "name": "stdout",
     "output_type": "stream",
     "text": [
      "\n",
      "The downloaded source packages are in\n",
      "\t‘/tmp/RtmpWM8WqY/downloaded_packages’\n"
     ]
    }
   ],
   "source": [
    "install.packages(\"e1071\", repos='http://archive.linux.duke.edu/cran/')"
   ]
  },
  {
   "cell_type": "code",
   "execution_count": 28,
   "metadata": {
    "collapsed": false
   },
   "outputs": [
    {
     "name": "stderr",
     "output_type": "stream",
     "text": [
      "found already estimated dispersions, replacing these\n",
      "gene-wise dispersion estimates\n",
      "mean-dispersion relationship\n",
      "final dispersion estimates\n"
     ]
    },
    {
     "data": {
      "text/plain": [
       "\n",
       "  An object of class  MLSeq \n",
       "\n",
       "            Method  :  svm \n",
       "\n",
       "       Accuracy(%)  :  93.48 \n",
       "    Sensitivity(%)  :  100 \n",
       "    Specificity(%)  :  86.96 \n",
       "\n",
       "  Reference Class   :  T \n"
      ]
     },
     "execution_count": 28,
     "metadata": {},
     "output_type": "execute_result"
    }
   ],
   "source": [
    "svm = classify(data = data.trainS4, method = \"svm\", normalize = \"deseq\", deseqTransform = \"vst\", cv = 5, rpt = 3, ref = \"T\")\n",
    "\n",
    "svm"
   ]
  },
  {
   "cell_type": "markdown",
   "metadata": {},
   "source": [
    "After running the code given above, we obtain the results in MLSeq class.  SVM successfully fits\n",
    "a model with 97.8% true classifcation accuracy by misclassifying only one non-tumor sample.\n",
    "\n",
    "\n",
    "\"svm\" object also stores information about model training and the parameters used to build\n",
    "this model."
   ]
  },
  {
   "cell_type": "code",
   "execution_count": 29,
   "metadata": {
    "collapsed": false
   },
   "outputs": [
    {
     "data": {
      "text/html": [
       "<dl class=dl-horizontal>\n",
       "\t<dt>method</dt>\n",
       "\t\t<dd>'character'</dd>\n",
       "\t<dt>deseqTransform</dt>\n",
       "\t\t<dd>'character'</dd>\n",
       "\t<dt>normalization</dt>\n",
       "\t\t<dd>'character'</dd>\n",
       "\t<dt>confusionMat</dt>\n",
       "\t\t<dd>'confusionMatrix'</dd>\n",
       "\t<dt>trained</dt>\n",
       "\t\t<dd>'train'</dd>\n",
       "\t<dt>ref</dt>\n",
       "\t\t<dd>'character'</dd>\n",
       "</dl>\n"
      ],
      "text/latex": [
       "\\begin{description*}\n",
       "\\item[method] 'character'\n",
       "\\item[deseqTransform] 'character'\n",
       "\\item[normalization] 'character'\n",
       "\\item[confusionMat] 'confusionMatrix'\n",
       "\\item[trained] 'train'\n",
       "\\item[ref] 'character'\n",
       "\\end{description*}\n"
      ],
      "text/markdown": [
       "method\n",
       ":   'character'deseqTransform\n",
       ":   'character'normalization\n",
       ":   'character'confusionMat\n",
       ":   'confusionMatrix'trained\n",
       ":   'train'ref\n",
       ":   'character'\n",
       "\n"
      ],
      "text/plain": [
       "           method    deseqTransform     normalization      confusionMat \n",
       "      \"character\"       \"character\"       \"character\" \"confusionMatrix\" \n",
       "          trained               ref \n",
       "          \"train\"       \"character\" "
      ]
     },
     "execution_count": 29,
     "metadata": {},
     "output_type": "execute_result"
    }
   ],
   "source": [
    "getSlots(\"MLSeq\")"
   ]
  },
  {
   "cell_type": "code",
   "execution_count": 30,
   "metadata": {
    "collapsed": false
   },
   "outputs": [
    {
     "data": {
      "text/plain": [
       "Support Vector Machines with Radial Basis Function Kernel \n",
       "\n",
       " 46 samples\n",
       "150 predictors\n",
       "  2 classes: 'T', 'N' \n",
       "\n",
       "No pre-processing\n",
       "Resampling: Cross-Validated (5 fold, repeated 3 times) \n",
       "Summary of sample sizes: 37, 37, 37, 37, 36, 37, ... \n",
       "Resampling results across tuning parameters:\n",
       "\n",
       "  C     Accuracy   Kappa      Accuracy SD  Kappa SD \n",
       "  0.25  0.8748148  0.7534359  0.11792344   0.2261951\n",
       "  0.50  0.9044444  0.8114907  0.10164433   0.1945290\n",
       "  1.00  0.8985185  0.8002087  0.09811869   0.1872383\n",
       "\n",
       "Tuning parameter 'sigma' was held constant at a value of 0.003875898\n",
       "Accuracy was used to select the optimal model using  the largest value.\n",
       "The final values used for the model were sigma = 0.003875898 and C = 0.5. "
      ]
     },
     "execution_count": 30,
     "metadata": {},
     "output_type": "execute_result"
    }
   ],
   "source": [
    "trained(svm)"
   ]
  },
  {
   "cell_type": "markdown",
   "metadata": {},
   "source": [
    "Now let's build a Random Forest model"
   ]
  },
  {
   "cell_type": "code",
   "execution_count": 32,
   "metadata": {
    "collapsed": false
   },
   "outputs": [
    {
     "name": "stderr",
     "output_type": "stream",
     "text": [
      "found already estimated dispersions, replacing these\n",
      "gene-wise dispersion estimates\n",
      "mean-dispersion relationship\n",
      "final dispersion estimates\n"
     ]
    },
    {
     "data": {
      "text/plain": [
       "\n",
       "  An object of class  MLSeq \n",
       "\n",
       "            Method  :  randomforest \n",
       "\n",
       "       Accuracy(%)  :  100 \n",
       "    Sensitivity(%)  :  100 \n",
       "    Specificity(%)  :  100 \n",
       "\n",
       "  Reference Class   :  T \n"
      ]
     },
     "execution_count": 32,
     "metadata": {},
     "output_type": "execute_result"
    }
   ],
   "source": [
    "rf <- classify(data = data.trainS4, method = \"randomforest\", normalize = \"deseq\", deseqTransform = \"vst\", cv = 5, rpt= 3, ref = \"T\")\n",
    "\n",
    "rf"
   ]
  },
  {
   "cell_type": "markdown",
   "metadata": {},
   "source": [
    "# Prediction of new samples from the test set"
   ]
  },
  {
   "cell_type": "code",
   "execution_count": 33,
   "metadata": {
    "collapsed": false
   },
   "outputs": [
    {
     "name": "stderr",
     "output_type": "stream",
     "text": [
      "found already estimated dispersions, replacing these\n",
      "gene-wise dispersion estimates\n",
      "mean-dispersion relationship\n",
      "final dispersion estimates\n"
     ]
    },
    {
     "data": {
      "text/html": [
       "<ol class=list-inline>\n",
       "\t<li>T</li>\n",
       "\t<li>T</li>\n",
       "\t<li>T</li>\n",
       "\t<li>T</li>\n",
       "\t<li>T</li>\n",
       "\t<li>T</li>\n",
       "\t<li>N</li>\n",
       "\t<li>N</li>\n",
       "\t<li>T</li>\n",
       "\t<li>T</li>\n",
       "\t<li>N</li>\n",
       "\t<li>N</li>\n",
       "</ol>\n"
      ],
      "text/latex": [
       "\\begin{enumerate*}\n",
       "\\item T\n",
       "\\item T\n",
       "\\item T\n",
       "\\item T\n",
       "\\item T\n",
       "\\item T\n",
       "\\item N\n",
       "\\item N\n",
       "\\item T\n",
       "\\item T\n",
       "\\item N\n",
       "\\item N\n",
       "\\end{enumerate*}\n"
      ],
      "text/markdown": [
       "1. T\n",
       "2. T\n",
       "3. T\n",
       "4. T\n",
       "5. T\n",
       "6. T\n",
       "7. N\n",
       "8. N\n",
       "9. T\n",
       "10. T\n",
       "11. N\n",
       "12. N\n",
       "\n",
       "\n"
      ],
      "text/plain": [
       " [1] T T T T T T N N T T N N\n",
       "Levels: T N"
      ]
     },
     "execution_count": 33,
     "metadata": {},
     "output_type": "execute_result"
    }
   ],
   "source": [
    "pred.svm = predictClassify(svm, data.testS4)\n",
    "\n",
    "pred.svm"
   ]
  },
  {
   "cell_type": "code",
   "execution_count": 34,
   "metadata": {
    "collapsed": false
   },
   "outputs": [
    {
     "name": "stderr",
     "output_type": "stream",
     "text": [
      "found already estimated dispersions, replacing these\n",
      "gene-wise dispersion estimates\n",
      "mean-dispersion relationship\n",
      "final dispersion estimates\n"
     ]
    },
    {
     "data": {
      "text/html": [
       "<ol class=list-inline>\n",
       "\t<li>T</li>\n",
       "\t<li>T</li>\n",
       "\t<li>T</li>\n",
       "\t<li>T</li>\n",
       "\t<li>N</li>\n",
       "\t<li>T</li>\n",
       "\t<li>N</li>\n",
       "\t<li>N</li>\n",
       "\t<li>T</li>\n",
       "\t<li>T</li>\n",
       "\t<li>N</li>\n",
       "\t<li>N</li>\n",
       "</ol>\n"
      ],
      "text/latex": [
       "\\begin{enumerate*}\n",
       "\\item T\n",
       "\\item T\n",
       "\\item T\n",
       "\\item T\n",
       "\\item N\n",
       "\\item T\n",
       "\\item N\n",
       "\\item N\n",
       "\\item T\n",
       "\\item T\n",
       "\\item N\n",
       "\\item N\n",
       "\\end{enumerate*}\n"
      ],
      "text/markdown": [
       "1. T\n",
       "2. T\n",
       "3. T\n",
       "4. T\n",
       "5. N\n",
       "6. T\n",
       "7. N\n",
       "8. N\n",
       "9. T\n",
       "10. T\n",
       "11. N\n",
       "12. N\n",
       "\n",
       "\n"
      ],
      "text/plain": [
       " [1] T T T T N T N N T T N N\n",
       "Levels: T N"
      ]
     },
     "execution_count": 34,
     "metadata": {},
     "output_type": "execute_result"
    }
   ],
   "source": [
    "pred.rf = predictClassify(rf, data.testS4)\n",
    "\n",
    "pred.rf"
   ]
  },
  {
   "cell_type": "code",
   "execution_count": 35,
   "metadata": {
    "collapsed": false
   },
   "outputs": [
    {
     "data": {
      "text/plain": [
       "        \n",
       "pred.svm T N\n",
       "       T 6 2\n",
       "       N 0 4"
      ]
     },
     "execution_count": 35,
     "metadata": {},
     "output_type": "execute_result"
    },
    {
     "data": {
      "text/plain": [
       "       \n",
       "pred.rf T N\n",
       "      T 6 1\n",
       "      N 0 5"
      ]
     },
     "execution_count": 35,
     "metadata": {},
     "output_type": "execute_result"
    }
   ],
   "source": [
    "table(pred.svm, relevel(data.testS4$condition, 2))\n",
    "\n",
    "table(pred.rf, relevel(data.testS4$condition, 2))"
   ]
  },
  {
   "cell_type": "code",
   "execution_count": 36,
   "metadata": {
    "collapsed": false
   },
   "outputs": [
    {
     "data": {
      "text/plain": [
       "R version 3.2.2 (2015-08-14)\n",
       "Platform: x86_64-pc-linux-gnu (64-bit)\n",
       "Running under: Ubuntu 14.04.3 LTS\n",
       "\n",
       "locale:\n",
       " [1] LC_CTYPE=en_US.UTF-8       LC_NUMERIC=C              \n",
       " [3] LC_TIME=en_US.UTF-8        LC_COLLATE=en_US.UTF-8    \n",
       " [5] LC_MONETARY=en_US.UTF-8    LC_MESSAGES=en_US.UTF-8   \n",
       " [7] LC_PAPER=en_US.UTF-8       LC_NAME=C                 \n",
       " [9] LC_ADDRESS=C               LC_TELEPHONE=C            \n",
       "[11] LC_MEASUREMENT=en_US.UTF-8 LC_IDENTIFICATION=C       \n",
       "\n",
       "attached base packages:\n",
       "[1] parallel  stats4    stats     graphics  grDevices utils     datasets \n",
       "[8] methods   base     \n",
       "\n",
       "other attached packages:\n",
       " [1] kernlab_0.9-22            MLSeq_1.6.0              \n",
       " [3] edgeR_3.10.2              randomForest_4.6-10      \n",
       " [5] limma_3.24.15             Biobase_2.28.0           \n",
       " [7] DESeq2_1.8.1              RcppArmadillo_0.5.500.2.0\n",
       " [9] Rcpp_0.12.0               GenomicRanges_1.20.6     \n",
       "[11] GenomeInfoDb_1.4.2        IRanges_2.2.7            \n",
       "[13] S4Vectors_0.6.5           BiocGenerics_0.14.0      \n",
       "[15] caret_6.0-52              ggplot2_1.0.1            \n",
       "[17] lattice_0.20-33           BiocInstaller_1.18.4     \n",
       "\n",
       "loaded via a namespace (and not attached):\n",
       " [1] jsonlite_0.9.16      splines_3.2.2        foreach_1.4.2       \n",
       " [4] gtools_3.5.0         Formula_1.2-1        latticeExtra_0.6-26 \n",
       " [7] RSQLite_1.0.0        quantreg_5.19        uuid_0.1-2          \n",
       "[10] digest_0.6.8         RColorBrewer_1.1-2   XVector_0.8.0       \n",
       "[13] minqa_1.2.4          colorspace_1.2-6     rzmq_0.7.7          \n",
       "[16] Matrix_1.2-2         plyr_1.8.3           XML_3.98-1.1        \n",
       "[19] BradleyTerry2_1.0-6  SparseM_1.7          genefilter_1.50.0   \n",
       "[22] xtable_1.7-4         scales_0.3.0         brglm_0.5-9         \n",
       "[25] BiocParallel_1.2.21  lme4_1.1-9           MatrixModels_0.4-1  \n",
       "[28] annotate_1.46.1      mgcv_1.8-7           car_2.1-0           \n",
       "[31] repr_0.3             nnet_7.3-11          pbkrtest_0.4-2      \n",
       "[34] proto_0.3-10         survival_2.38-3      magrittr_1.5        \n",
       "[37] evaluate_0.7         nlme_3.1-122         MASS_7.3-44         \n",
       "[40] class_7.3-14         foreign_0.8-66       tools_3.2.2         \n",
       "[43] stringr_1.0.0        munsell_0.4.2        locfit_1.5-9.1      \n",
       "[46] cluster_2.0.3        AnnotationDbi_1.30.1 lambda.r_1.1.7      \n",
       "[49] compiler_3.2.2       e1071_1.6-7          futile.logger_1.4.1 \n",
       "[52] grid_3.2.2           nloptr_1.0.4         iterators_1.0.7     \n",
       "[55] IRkernel_0.4         base64enc_0.1-3      gtable_0.1.2        \n",
       "[58] codetools_0.2-14     DBI_0.3.1            reshape2_1.4.1      \n",
       "[61] gridExtra_2.0.0      Hmisc_3.16-0         futile.options_1.0.0\n",
       "[64] stringi_0.5-5        IRdisplay_0.3        geneplotter_1.46.0  \n",
       "[67] rpart_4.1-10         acepack_1.3-3.3     "
      ]
     },
     "execution_count": 36,
     "metadata": {},
     "output_type": "execute_result"
    }
   ],
   "source": [
    "sessionInfo()"
   ]
  },
  {
   "cell_type": "code",
   "execution_count": 37,
   "metadata": {
    "collapsed": false
   },
   "outputs": [
    {
     "data": {
      "text/plain": [
       "Confusion Matrix and Statistics\n",
       "\n",
       "        \n",
       "pred.svm T N\n",
       "       T 6 2\n",
       "       N 0 4\n",
       "                                          \n",
       "               Accuracy : 0.8333          \n",
       "                 95% CI : (0.5159, 0.9791)\n",
       "    No Information Rate : 0.5             \n",
       "    P-Value [Acc > NIR] : 0.01929         \n",
       "                                          \n",
       "                  Kappa : 0.6667          \n",
       " Mcnemar's Test P-Value : 0.47950         \n",
       "                                          \n",
       "            Sensitivity : 1.0000          \n",
       "            Specificity : 0.6667          \n",
       "         Pos Pred Value : 0.7500          \n",
       "         Neg Pred Value : 1.0000          \n",
       "             Prevalence : 0.5000          \n",
       "         Detection Rate : 0.5000          \n",
       "   Detection Prevalence : 0.6667          \n",
       "      Balanced Accuracy : 0.8333          \n",
       "                                          \n",
       "       'Positive' Class : T               \n",
       "                                          "
      ]
     },
     "execution_count": 37,
     "metadata": {},
     "output_type": "execute_result"
    }
   ],
   "source": [
    "confusionMatrix(table(pred.svm, relevel(data.testS4$condition, 2)))"
   ]
  }
 ],
 "metadata": {
  "kernelspec": {
   "display_name": "R",
   "language": "R",
   "name": "ir"
  },
  "language_info": {
   "codemirror_mode": "r",
   "file_extension": ".r",
   "mimetype": "text/x-r-source",
   "name": "R",
   "pygments_lexer": "r",
   "version": "3.2.2"
  }
 },
 "nbformat": 4,
 "nbformat_minor": 0
}
