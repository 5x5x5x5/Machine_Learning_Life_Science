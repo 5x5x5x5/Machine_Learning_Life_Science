{
 "cells": [
  {
   "cell_type": "code",
   "execution_count": 22,
   "metadata": {
    "collapsed": false
   },
   "outputs": [],
   "source": [
    "import numpy as np\n",
    "import pandas as pd\n",
    "import warnings\n",
    "warnings.filterwarnings('ignore')"
   ]
  },
  {
   "cell_type": "markdown",
   "metadata": {},
   "source": [
    "### Train/Test split already done"
   ]
  },
  {
   "cell_type": "code",
   "execution_count": 23,
   "metadata": {
    "collapsed": false
   },
   "outputs": [],
   "source": [
    "#from sklearn.cross_validation import train_test_split\n",
    "\n",
    "# create 80%-20% train-test split\n",
    "#X_train, X_test, y_train, y_test = train_test_split(X, y, test_size=0.2, random_state=5555)"
   ]
  },
  {
   "cell_type": "code",
   "execution_count": 24,
   "metadata": {
    "collapsed": false
   },
   "outputs": [],
   "source": [
    "twoD6_test = pd.read_csv(\"data/test2d6.csv\", index_col='SID')\n",
    "twoD6_train = pd.read_csv(\"data/training2d6.csv\", index_col='SID')"
   ]
  },
  {
   "cell_type": "code",
   "execution_count": 25,
   "metadata": {
    "collapsed": false
   },
   "outputs": [
    {
     "data": {
      "text/html": [
       "<div style=\"max-height:1000px;max-width:1500px;overflow:auto;\">\n",
       "<table border=\"1\" class=\"dataframe\">\n",
       "  <thead>\n",
       "    <tr style=\"text-align: right;\">\n",
       "      <th></th>\n",
       "      <th>ActivityScore</th>\n",
       "      <th>apol</th>\n",
       "      <th>a_acc</th>\n",
       "      <th>a_acid</th>\n",
       "      <th>a_aro</th>\n",
       "      <th>a_base</th>\n",
       "      <th>a_count</th>\n",
       "      <th>a_don</th>\n",
       "      <th>a_heavy</th>\n",
       "      <th>a_hyd</th>\n",
       "      <th>...</th>\n",
       "      <th>vsa_acid</th>\n",
       "      <th>vsa_base</th>\n",
       "      <th>vsa_don</th>\n",
       "      <th>vsa_hyd</th>\n",
       "      <th>vsa_other</th>\n",
       "      <th>vsa_pol</th>\n",
       "      <th>Weight</th>\n",
       "      <th>weinerPath</th>\n",
       "      <th>weinerPol</th>\n",
       "      <th>zagreb</th>\n",
       "    </tr>\n",
       "    <tr>\n",
       "      <th>SID</th>\n",
       "      <th></th>\n",
       "      <th></th>\n",
       "      <th></th>\n",
       "      <th></th>\n",
       "      <th></th>\n",
       "      <th></th>\n",
       "      <th></th>\n",
       "      <th></th>\n",
       "      <th></th>\n",
       "      <th></th>\n",
       "      <th></th>\n",
       "      <th></th>\n",
       "      <th></th>\n",
       "      <th></th>\n",
       "      <th></th>\n",
       "      <th></th>\n",
       "      <th></th>\n",
       "      <th></th>\n",
       "      <th></th>\n",
       "      <th></th>\n",
       "      <th></th>\n",
       "    </tr>\n",
       "  </thead>\n",
       "  <tbody>\n",
       "    <tr>\n",
       "      <th>11114095</th>\n",
       "      <td> 85</td>\n",
       "      <td> 25.967930</td>\n",
       "      <td> 0</td>\n",
       "      <td> 5</td>\n",
       "      <td>  0</td>\n",
       "      <td> 1</td>\n",
       "      <td> 23</td>\n",
       "      <td> 0</td>\n",
       "      <td> 13</td>\n",
       "      <td>  5</td>\n",
       "      <td>...</td>\n",
       "      <td> 74.321251</td>\n",
       "      <td> 17.742489</td>\n",
       "      <td> 17.742489</td>\n",
       "      <td>  71.454041</td>\n",
       "      <td> 28.375498</td>\n",
       "      <td> 92.063744</td>\n",
       "      <td> 207.12199</td>\n",
       "      <td>  272</td>\n",
       "      <td> 13</td>\n",
       "      <td>  58</td>\n",
       "    </tr>\n",
       "    <tr>\n",
       "      <th>11111502</th>\n",
       "      <td> 41</td>\n",
       "      <td> 52.303032</td>\n",
       "      <td> 0</td>\n",
       "      <td> 0</td>\n",
       "      <td> 12</td>\n",
       "      <td> 1</td>\n",
       "      <td> 45</td>\n",
       "      <td> 0</td>\n",
       "      <td> 21</td>\n",
       "      <td> 20</td>\n",
       "      <td>...</td>\n",
       "      <td>  0.000000</td>\n",
       "      <td>  5.682576</td>\n",
       "      <td>  5.682576</td>\n",
       "      <td> 254.943600</td>\n",
       "      <td>  0.000000</td>\n",
       "      <td>  5.682576</td>\n",
       "      <td> 278.41901</td>\n",
       "      <td>  810</td>\n",
       "      <td> 40</td>\n",
       "      <td> 118</td>\n",
       "    </tr>\n",
       "    <tr>\n",
       "      <th>11111413</th>\n",
       "      <td>  0</td>\n",
       "      <td> 35.143032</td>\n",
       "      <td> 0</td>\n",
       "      <td> 0</td>\n",
       "      <td>  0</td>\n",
       "      <td> 3</td>\n",
       "      <td> 36</td>\n",
       "      <td> 0</td>\n",
       "      <td> 12</td>\n",
       "      <td>  9</td>\n",
       "      <td>...</td>\n",
       "      <td>  0.000000</td>\n",
       "      <td> 41.167557</td>\n",
       "      <td> 41.167557</td>\n",
       "      <td> 133.040590</td>\n",
       "      <td>  0.000000</td>\n",
       "      <td> 41.167557</td>\n",
       "      <td> 174.31200</td>\n",
       "      <td>  215</td>\n",
       "      <td> 13</td>\n",
       "      <td>  52</td>\n",
       "    </tr>\n",
       "    <tr>\n",
       "      <th>11112630</th>\n",
       "      <td> 20</td>\n",
       "      <td> 32.461517</td>\n",
       "      <td> 1</td>\n",
       "      <td> 0</td>\n",
       "      <td>  6</td>\n",
       "      <td> 0</td>\n",
       "      <td> 26</td>\n",
       "      <td> 0</td>\n",
       "      <td> 14</td>\n",
       "      <td> 11</td>\n",
       "      <td>...</td>\n",
       "      <td>  0.000000</td>\n",
       "      <td>  0.000000</td>\n",
       "      <td>  0.000000</td>\n",
       "      <td> 166.094760</td>\n",
       "      <td> 13.166624</td>\n",
       "      <td>  5.682576</td>\n",
       "      <td> 204.29700</td>\n",
       "      <td>  298</td>\n",
       "      <td> 17</td>\n",
       "      <td>  76</td>\n",
       "    </tr>\n",
       "    <tr>\n",
       "      <th>11110827</th>\n",
       "      <td>  0</td>\n",
       "      <td> 64.246994</td>\n",
       "      <td> 5</td>\n",
       "      <td> 0</td>\n",
       "      <td>  0</td>\n",
       "      <td> 0</td>\n",
       "      <td> 57</td>\n",
       "      <td> 3</td>\n",
       "      <td> 28</td>\n",
       "      <td> 21</td>\n",
       "      <td>...</td>\n",
       "      <td>  0.000000</td>\n",
       "      <td>  0.000000</td>\n",
       "      <td>  0.000000</td>\n",
       "      <td> 267.817900</td>\n",
       "      <td> 16.917038</td>\n",
       "      <td> 67.834602</td>\n",
       "      <td> 408.92200</td>\n",
       "      <td> 1670</td>\n",
       "      <td> 70</td>\n",
       "      <td> 168</td>\n",
       "    </tr>\n",
       "  </tbody>\n",
       "</table>\n",
       "<p>5 rows × 187 columns</p>\n",
       "</div>"
      ],
      "text/plain": [
       "          ActivityScore       apol  a_acc  a_acid  a_aro  a_base  a_count  \\\n",
       "SID                                                                         \n",
       "11114095             85  25.967930      0       5      0       1       23   \n",
       "11111502             41  52.303032      0       0     12       1       45   \n",
       "11111413              0  35.143032      0       0      0       3       36   \n",
       "11112630             20  32.461517      1       0      6       0       26   \n",
       "11110827              0  64.246994      5       0      0       0       57   \n",
       "\n",
       "          a_don  a_heavy  a_hyd  ...     vsa_acid   vsa_base    vsa_don  \\\n",
       "SID                              ...                                      \n",
       "11114095      0       13      5  ...    74.321251  17.742489  17.742489   \n",
       "11111502      0       21     20  ...     0.000000   5.682576   5.682576   \n",
       "11111413      0       12      9  ...     0.000000  41.167557  41.167557   \n",
       "11112630      0       14     11  ...     0.000000   0.000000   0.000000   \n",
       "11110827      3       28     21  ...     0.000000   0.000000   0.000000   \n",
       "\n",
       "             vsa_hyd  vsa_other    vsa_pol     Weight  weinerPath  weinerPol  \\\n",
       "SID                                                                            \n",
       "11114095   71.454041  28.375498  92.063744  207.12199         272         13   \n",
       "11111502  254.943600   0.000000   5.682576  278.41901         810         40   \n",
       "11111413  133.040590   0.000000  41.167557  174.31200         215         13   \n",
       "11112630  166.094760  13.166624   5.682576  204.29700         298         17   \n",
       "11110827  267.817900  16.917038  67.834602  408.92200        1670         70   \n",
       "\n",
       "          zagreb  \n",
       "SID               \n",
       "11114095      58  \n",
       "11111502     118  \n",
       "11111413      52  \n",
       "11112630      76  \n",
       "11110827     168  \n",
       "\n",
       "[5 rows x 187 columns]"
      ]
     },
     "execution_count": 25,
     "metadata": {},
     "output_type": "execute_result"
    }
   ],
   "source": [
    "twoD6_train.head()"
   ]
  },
  {
   "cell_type": "code",
   "execution_count": 26,
   "metadata": {
    "collapsed": false
   },
   "outputs": [
    {
     "name": "stdout",
     "output_type": "stream",
     "text": [
      "Column names:\n",
      "['ActivityScore', 'apol', 'a_acc', 'a_acid', 'a_aro', 'a_base', 'a_count', 'a_don', 'a_heavy', 'a_hyd', 'a_IC', 'a_ICM', 'a_nB', 'a_nBr', 'a_nC', 'a_nCl', 'a_nF', 'a_nH', 'a_nI', 'a_nN', 'a_nO', 'a_nP', 'a_nS', 'balabanJ', 'BCUT_PEOE_0', 'BCUT_PEOE_1', 'BCUT_PEOE_2', 'BCUT_PEOE_3', 'BCUT_SLOGP_0', 'BCUT_SLOGP_1', 'BCUT_SLOGP_2', 'BCUT_SLOGP_3', 'BCUT_SMR_0', 'BCUT_SMR_1', 'BCUT_SMR_2', 'BCUT_SMR_3', 'bpol', 'b_1rotN', 'b_1rotR', 'b_ar', 'b_count', 'b_double', 'b_heavy', 'b_rotN', 'b_rotR', 'b_single', 'b_triple', 'chi0', 'chi0v', 'chi0v_C', 'chi0_C', 'chi1', 'chi1v', 'chi1v_C', 'chi1_C', 'chiral', 'chiral_u', 'density', 'diameter', 'FCharge', 'GCUT_PEOE_0', 'GCUT_PEOE_1', 'GCUT_PEOE_2', 'GCUT_PEOE_3', 'GCUT_SLOGP_0', 'GCUT_SLOGP_1', 'GCUT_SLOGP_2', 'GCUT_SLOGP_3', 'GCUT_SMR_0', 'GCUT_SMR_1', 'GCUT_SMR_2', 'GCUT_SMR_3', 'Kier1', 'Kier2', 'Kier3', 'KierA1', 'KierA2', 'KierA3', 'KierFlex', 'lip_acc', 'lip_don', 'lip_druglike', 'lip_violation', 'logP(o/w)', 'logS', 'mr', 'mutagenic', 'nmol', 'opr_brigid', 'opr_leadlike', 'opr_nring', 'opr_nrot', 'opr_violation', 'PC+', 'PC-', 'PEOE_PC+', 'PEOE_PC-', 'PEOE_RPC+', 'PEOE_RPC-', 'PEOE_VSA+0', 'PEOE_VSA+1', 'PEOE_VSA+2', 'PEOE_VSA+3', 'PEOE_VSA+4', 'PEOE_VSA+5', 'PEOE_VSA+6', 'PEOE_VSA-0', 'PEOE_VSA-1', 'PEOE_VSA-2', 'PEOE_VSA-3', 'PEOE_VSA-4', 'PEOE_VSA-5', 'PEOE_VSA-6', 'PEOE_VSA_FHYD', 'PEOE_VSA_FNEG', 'PEOE_VSA_FPNEG', 'PEOE_VSA_FPOL', 'PEOE_VSA_FPOS', 'PEOE_VSA_FPPOS', 'PEOE_VSA_HYD', 'PEOE_VSA_NEG', 'PEOE_VSA_PNEG', 'PEOE_VSA_POL', 'PEOE_VSA_POS', 'PEOE_VSA_PPOS', 'petitjean', 'petitjeanSC', 'Q_PC+', 'Q_PC-', 'Q_RPC+', 'Q_RPC-', 'Q_VSA_FHYD', 'Q_VSA_FNEG', 'Q_VSA_FPNEG', 'Q_VSA_FPOL', 'Q_VSA_FPOS', 'Q_VSA_FPPOS', 'Q_VSA_HYD', 'Q_VSA_NEG', 'Q_VSA_PNEG', 'Q_VSA_POL', 'Q_VSA_POS', 'Q_VSA_PPOS', 'radius', 'reactive', 'rings', 'RPC+', 'RPC-', 'rsynth', 'SlogP', 'SlogP_VSA0', 'SlogP_VSA1', 'SlogP_VSA2', 'SlogP_VSA3', 'SlogP_VSA4', 'SlogP_VSA5', 'SlogP_VSA6', 'SlogP_VSA7', 'SlogP_VSA8', 'SlogP_VSA9', 'SMR', 'SMR_VSA0', 'SMR_VSA1', 'SMR_VSA2', 'SMR_VSA3', 'SMR_VSA4', 'SMR_VSA5', 'SMR_VSA6', 'SMR_VSA7', 'TPSA', 'VAdjEq', 'VAdjMa', 'VDistEq', 'VDistMa', 'vdw_area', 'vdw_vol', 'vsa_acc', 'vsa_acid', 'vsa_base', 'vsa_don', 'vsa_hyd', 'vsa_other', 'vsa_pol', 'Weight', 'weinerPath', 'weinerPol', 'zagreb']\n"
     ]
    }
   ],
   "source": [
    "col_names2D6 = twoD6_train.columns.tolist()\n",
    "\n",
    "print('Column names:')\n",
    "print(col_names2D6)"
   ]
  },
  {
   "cell_type": "code",
   "execution_count": 27,
   "metadata": {
    "collapsed": false
   },
   "outputs": [],
   "source": [
    "# Isolate response variable\n",
    "ActivityScore = twoD6_train['ActivityScore']\n",
    "y_train = np.where(ActivityScore >= 40,1,0)\n",
    "\n",
    "ActivityScore2 = twoD6_test['ActivityScore']\n",
    "y_test = np.where(ActivityScore2 >= 40,1,0)"
   ]
  },
  {
   "cell_type": "code",
   "execution_count": 28,
   "metadata": {
    "collapsed": false
   },
   "outputs": [
    {
     "data": {
      "text/plain": [
       "((4433,), (1109,))"
      ]
     },
     "execution_count": 28,
     "metadata": {},
     "output_type": "execute_result"
    }
   ],
   "source": [
    "# looks right sized\n",
    "y_train.shape, y_test.shape"
   ]
  },
  {
   "cell_type": "code",
   "execution_count": 29,
   "metadata": {
    "collapsed": false
   },
   "outputs": [
    {
     "data": {
      "text/plain": [
       "array([1, 1, 1, ..., 1, 0, 1])"
      ]
     },
     "execution_count": 29,
     "metadata": {},
     "output_type": "execute_result"
    }
   ],
   "source": [
    "y_test"
   ]
  },
  {
   "cell_type": "code",
   "execution_count": 30,
   "metadata": {
    "collapsed": false
   },
   "outputs": [],
   "source": [
    "# We don't need this column anymore\n",
    "to_drop = ['ActivityScore']\n",
    "inhib_feat_space = twoD6_train.drop(to_drop,axis=1)\n",
    "inhib_feat_space_test = twoD6_test.drop(to_drop,axis=1)"
   ]
  },
  {
   "cell_type": "code",
   "execution_count": 31,
   "metadata": {
    "collapsed": false
   },
   "outputs": [],
   "source": [
    "# Pull out features for future use\n",
    "features = inhib_feat_space.columns\n",
    "features_test = inhib_feat_space_test.columns"
   ]
  },
  {
   "cell_type": "code",
   "execution_count": 32,
   "metadata": {
    "collapsed": false
   },
   "outputs": [],
   "source": [
    "X_train = inhib_feat_space.as_matrix().astype(np.float)\n",
    "X_test = inhib_feat_space_test.as_matrix().astype(np.float)"
   ]
  },
  {
   "cell_type": "code",
   "execution_count": 33,
   "metadata": {
    "collapsed": false
   },
   "outputs": [
    {
     "data": {
      "text/plain": [
       "((4433, 186), (1109, 186))"
      ]
     },
     "execution_count": 33,
     "metadata": {},
     "output_type": "execute_result"
    }
   ],
   "source": [
    "X_train.shape, X_test.shape"
   ]
  },
  {
   "cell_type": "code",
   "execution_count": 34,
   "metadata": {
    "collapsed": false
   },
   "outputs": [
    {
     "data": {
      "text/plain": [
       "552"
      ]
     },
     "execution_count": 34,
     "metadata": {},
     "output_type": "execute_result"
    }
   ],
   "source": [
    "n_pos1 = y_test.sum()\n",
    "n_pos1"
   ]
  },
  {
   "cell_type": "code",
   "execution_count": 35,
   "metadata": {
    "collapsed": false
   },
   "outputs": [
    {
     "data": {
      "text/plain": [
       "2219"
      ]
     },
     "execution_count": 35,
     "metadata": {},
     "output_type": "execute_result"
    }
   ],
   "source": [
    "n_pos2 = y_train.sum()\n",
    "n_pos2"
   ]
  },
  {
   "cell_type": "code",
   "execution_count": 36,
   "metadata": {
    "collapsed": false
   },
   "outputs": [
    {
     "name": "stdout",
     "output_type": "stream",
     "text": [
      "Feature space holds 4433 observations and 186 features\n",
      "Unique target labels: array([0, 1])\n",
      "Feature space holds 1109 observations and 186 features\n",
      "Unique target labels: array([0, 1])\n"
     ]
    }
   ],
   "source": [
    "print('Feature space holds '+repr(X_train.shape[0])+' observations and '+repr(X_test.shape[1])+' features')\n",
    "print('Unique target labels: '+repr(np.unique(y_train)))\n",
    "\n",
    "print('Feature space holds '+repr(X_test.shape[0])+' observations and '+repr(X_test.shape[1])+' features')\n",
    "print('Unique target labels: '+repr(np.unique(y_test)))"
   ]
  },
  {
   "cell_type": "code",
   "execution_count": 37,
   "metadata": {
    "collapsed": false
   },
   "outputs": [
    {
     "data": {
      "text/plain": [
       "186"
      ]
     },
     "execution_count": 37,
     "metadata": {},
     "output_type": "execute_result"
    }
   ],
   "source": [
    "X_test.shape[1]"
   ]
  },
  {
   "cell_type": "markdown",
   "metadata": {},
   "source": [
    "## Scale the features before training model"
   ]
  },
  {
   "cell_type": "code",
   "execution_count": 38,
   "metadata": {
    "collapsed": false
   },
   "outputs": [],
   "source": [
    "# This is important\n",
    "from sklearn.preprocessing import StandardScaler\n",
    "scaler = StandardScaler()\n",
    "X_train = scaler.fit_transform(X_train)\n",
    "X_test = scaler.fit_transform(X_test)"
   ]
  },
  {
   "cell_type": "code",
   "execution_count": 39,
   "metadata": {
    "collapsed": false
   },
   "outputs": [],
   "source": [
    "from sklearn.cross_validation import KFold\n",
    "\n",
    "def run_cv(X,y,clf_class,**kwargs):\n",
    "    # Construct a kfolds object\n",
    "    kf = KFold(len(y),n_folds=5,shuffle=True)\n",
    "    y_pred = y.copy()\n",
    "    \n",
    "    # Iterate through folds\n",
    "    for train_index, test_index in kf:\n",
    "        X_train, X_test = X[train_index], X[test_index]\n",
    "        y_train = y[train_index]\n",
    "        # Initialize a classifier with key word arguments\n",
    "        clf = clf_class(**kwargs)\n",
    "        clf.fit(X_train,y_train)\n",
    "        y_pred[test_index] = clf.predict(X_test)\n",
    "    return y_pred"
   ]
  },
  {
   "cell_type": "code",
   "execution_count": 40,
   "metadata": {
    "collapsed": false
   },
   "outputs": [
    {
     "name": "stdout",
     "output_type": "stream",
     "text": [
      "K-nearest-neighbors (training set):\n",
      "0.717\n",
      "K-nearest-neighbors (test set):\n",
      "0.678\n",
      "Support vector machines (training set):\n",
      "0.755\n",
      "Support vector machines (test set):\n",
      "0.725\n",
      "Random forest (training set):\n",
      "0.729\n",
      "Random forest (test set):\n",
      "0.707\n"
     ]
    }
   ],
   "source": [
    "from sklearn.svm import SVC\n",
    "from sklearn.ensemble import RandomForestClassifier as RF\n",
    "from sklearn.neighbors import KNeighborsClassifier as KNN\n",
    "\n",
    "def accuracy(y_true,y_pred):\n",
    "    # NumPy interpretes True and False as 1. and 0.\n",
    "    return np.mean(y_true == y_pred)\n",
    "\n",
    "print(\"K-nearest-neighbors (training set):\")\n",
    "print(\"%.3f\" % accuracy(y_train, run_cv(X_train,y_train,KNN)))\n",
    "print(\"K-nearest-neighbors (test set):\")\n",
    "print(\"%.3f\" % accuracy(y_test, run_cv(X_test,y_test,KNN)))\n",
    "print('Support vector machines (training set):')\n",
    "print(\"%.3f\" % accuracy(y_train, run_cv(X_train,y_train,SVC)))\n",
    "print('Support vector machines (test set):')\n",
    "print(\"%.3f\" % accuracy(y_test, run_cv(X_test,y_test,SVC)))\n",
    "print(\"Random forest (training set):\")\n",
    "print(\"%.3f\" % accuracy(y_train, run_cv(X_train,y_train,RF)))\n",
    "print(\"Random forest (test set):\")\n",
    "print(\"%.3f\" % accuracy(y_test, run_cv(X_test,y_test,RF)))\n"
   ]
  },
  {
   "cell_type": "code",
   "execution_count": 41,
   "metadata": {
    "collapsed": false
   },
   "outputs": [
    {
     "data": {
      "text/plain": [
       "([('K-Nearest-Neighbors training', array([[1537,  677],\n",
       "          [ 553, 1666]])),\n",
       "  ('Support Vector Machines training', array([[1687,  527],\n",
       "          [ 543, 1676]])),\n",
       "  ('Random Forest taining', array([[1732,  482],\n",
       "          [ 760, 1459]]))],\n",
       " [('K-Nearest-Neighbors test', array([[366, 191],\n",
       "          [171, 381]])), ('Support Vector Machines test', array([[440, 117],\n",
       "          [184, 368]])), ('Random Forest test', array([[423, 134],\n",
       "          [218, 334]]))])"
      ]
     },
     "execution_count": 41,
     "metadata": {},
     "output_type": "execute_result"
    }
   ],
   "source": [
    "from sklearn.metrics import confusion_matrix\n",
    "\n",
    "y_train = np.array(y_train)\n",
    "class_names = np.unique(y_train)\n",
    "\n",
    "confusion_matrices_training = [\n",
    "    ( \"K-Nearest-Neighbors training\", confusion_matrix(y_train,run_cv(X_train,y_train,KNN)) ),\n",
    "    ( \"Support Vector Machines training\", confusion_matrix(y_train,run_cv(X_train,y_train,SVC)) ),\n",
    "    ( \"Random Forest taining\", confusion_matrix(y_train,run_cv(X_train,y_train,RF)) ),\n",
    "]\n",
    "\n",
    "y_test = np.array(y_test)\n",
    "class_names = np.unique(y_test)\n",
    "\n",
    "confusion_matrices_test = [\n",
    "    ( \"K-Nearest-Neighbors test\", confusion_matrix(y_test,run_cv(X_test,y_test,KNN)) ),\n",
    "    ( \"Support Vector Machines test\", confusion_matrix(y_test,run_cv(X_test,y_test,SVC)) ),\n",
    "    ( \"Random Forest test\", confusion_matrix(y_test,run_cv(X_test,y_test,RF)) ),\n",
    "]\n",
    "\n",
    "#draw_confusion_matrices(confusion_matrices,class_names)\n",
    "confusion_matrices_training, confusion_matrices_test"
   ]
  },
  {
   "cell_type": "code",
   "execution_count": 46,
   "metadata": {
    "collapsed": false
   },
   "outputs": [
    {
     "data": {
      "text/plain": [
       "0.79710213956578524"
      ]
     },
     "execution_count": 46,
     "metadata": {},
     "output_type": "execute_result"
    }
   ],
   "source": [
    "roc_auc_score(is_churn, pred_churn)"
   ]
  },
  {
   "cell_type": "code",
   "execution_count": 47,
   "metadata": {
    "collapsed": false
   },
   "outputs": [],
   "source": []
  }
 ],
 "metadata": {
  "kernelspec": {
   "display_name": "Python 3",
   "language": "python",
   "name": "python3"
  },
  "language_info": {
   "codemirror_mode": {
    "name": "ipython",
    "version": 3
   },
   "file_extension": ".py",
   "mimetype": "text/x-python",
   "name": "python",
   "nbconvert_exporter": "python",
   "pygments_lexer": "ipython3",
   "version": "3.4.3"
  }
 },
 "nbformat": 4,
 "nbformat_minor": 0
}
